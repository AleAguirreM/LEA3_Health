{
  "nbformat": 4,
  "nbformat_minor": 0,
  "metadata": {
    "colab": {
      "provenance": [],
      "include_colab_link": true
    },
    "kernelspec": {
      "name": "python3",
      "display_name": "Python 3"
    },
    "language_info": {
      "name": "python"
    }
  },
  "cells": [
    {
      "cell_type": "markdown",
      "metadata": {
        "id": "view-in-github",
        "colab_type": "text"
      },
      "source": [
        "<a href=\"https://colab.research.google.com/github/AleAguirreM/LEA3_Health/blob/main/b_modelos.ipynb\" target=\"_parent\"><img src=\"https://colab.research.google.com/assets/colab-badge.svg\" alt=\"Open In Colab\"/></a>"
      ]
    },
    {
      "cell_type": "code",
      "source": [
        "from google.colab import drive\n",
        "drive.mount('/content/drive')"
      ],
      "metadata": {
        "colab": {
          "base_uri": "https://localhost:8080/"
        },
        "id": "EphtiL-V0hy2",
        "outputId": "9c60744d-d748-4136-8cb8-80ccfa5ac8a9"
      },
      "execution_count": 1,
      "outputs": [
        {
          "output_type": "stream",
          "name": "stdout",
          "text": [
            "Mounted at /content/drive\n"
          ]
        }
      ]
    },
    {
      "cell_type": "code",
      "execution_count": 2,
      "metadata": {
        "id": "D0n_Fnjnz8PT"
      },
      "outputs": [],
      "source": [
        "import numpy as np\n",
        "import joblib ### para cargar array\n",
        "########Paquetes para NN #########\n",
        "import tensorflow as tf\n",
        "from sklearn import metrics ### para analizar modelo\n",
        "from sklearn.ensemble import RandomForestClassifier  ### para analizar modelo\n",
        "import pandas as pd\n",
        "from sklearn import tree\n",
        "import cv2 ### para leer imagenes jpeg\n",
        "from matplotlib import pyplot as plt #"
      ]
    },
    {
      "cell_type": "code",
      "source": [
        "### cargar bases_procesadas ####\n",
        "x_train = joblib.load('/content/drive/MyDrive/TB_Chest_Radiography_Database/salidas/x_train.pkl')\n",
        "y_train = joblib.load('/content/drive/MyDrive/TB_Chest_Radiography_Database/salidas/y_train.pkl')\n",
        "x_test = joblib.load('/content/drive/MyDrive/TB_Chest_Radiography_Database/salidas/x_test.pkl')\n",
        "y_test = joblib.load('/content/drive/MyDrive/TB_Chest_Radiography_Database/salidas/y_test.pkl')"
      ],
      "metadata": {
        "id": "KgxSXwb30DrX"
      },
      "execution_count": 3,
      "outputs": []
    },
    {
      "cell_type": "code",
      "source": [
        "#### Escalar ######################\n",
        "x_train = x_train.astype('float32') ## para poder escalarlo\n",
        "x_test = x_test.astype('float32') ## para poder escalarlo\n",
        "x_train /=255 ### escalaro para que quede entre 0 y 1\n",
        "x_test /=255\n",
        "\n",
        "###### verificar tamaños\n",
        "print(x_train.shape)\n",
        "x_test.shape"
      ],
      "metadata": {
        "colab": {
          "base_uri": "https://localhost:8080/"
        },
        "id": "E24SvmNi1FGi",
        "outputId": "a33ac3ab-5c6a-4071-f161-980a2d05de3d"
      },
      "execution_count": 4,
      "outputs": [
        {
          "output_type": "stream",
          "name": "stdout",
          "text": [
            "(3360, 100, 100, 3)\n"
          ]
        },
        {
          "output_type": "execute_result",
          "data": {
            "text/plain": [
              "(840, 100, 100, 3)"
            ]
          },
          "metadata": {},
          "execution_count": 4
        }
      ]
    },
    {
      "cell_type": "code",
      "source": [
        "np.product(x_train[1].shape) ## cantidad de variables por imagen"
      ],
      "metadata": {
        "colab": {
          "base_uri": "https://localhost:8080/"
        },
        "id": "Pq_IX90-2PAO",
        "outputId": "cb1f5732-cac9-4431-e9e7-8c94ad95f5b4"
      },
      "execution_count": 5,
      "outputs": [
        {
          "output_type": "execute_result",
          "data": {
            "text/plain": [
              "30000"
            ]
          },
          "metadata": {},
          "execution_count": 5
        }
      ]
    },
    {
      "cell_type": "code",
      "source": [
        "np.unique(y_train, return_counts=True)\n",
        "np.unique(y_test, return_counts=True)\n",
        "\n",
        "##### convertir a 1 d array ############\n",
        "x_train2 = x_train.reshape(3360,30000)\n",
        "x_test2 = x_test.reshape(840, 30000)\n",
        "print(x_train2.shape)\n",
        "x_test2.shape"
      ],
      "metadata": {
        "colab": {
          "base_uri": "https://localhost:8080/"
        },
        "id": "7d7h8kXC1tZr",
        "outputId": "688bc939-045f-49b5-f311-83804d5626ac"
      },
      "execution_count": 6,
      "outputs": [
        {
          "output_type": "stream",
          "name": "stdout",
          "text": [
            "(3360, 30000)\n"
          ]
        },
        {
          "output_type": "execute_result",
          "data": {
            "text/plain": [
              "(840, 30000)"
            ]
          },
          "metadata": {},
          "execution_count": 6
        }
      ]
    },
    {
      "cell_type": "code",
      "source": [
        "############################################################\n",
        "###############Seleccionar un indicador ################\n",
        "############################################################\n",
        "\n",
        "### Precision Tasa de acierto en predichos positivos ( qué porcentaje de personas identificada con neumonía realmente tienen)\n",
        "### Recall: Tasa de identficación de positivos (de los que tenían neumonía cuantos predije tenían)\n",
        "### F1_Socre: Combina Precions y recall (promedio entre dos anteriores)\n",
        "### Acurracy: Porcentaje de acertados\n",
        "### AUC: detección de positivos vs mala clasificaicón de negativos: porcentaje de los que neumonía que identifico vs los normales que digo que tiene neumonía\n",
        "\n",
        "############ Analisis problema ###########\n",
        "#### me interesa recall: de los enfermos que los pueda detectar, sin embargo\n",
        "#### el problema es que puede generar mucho trabajo porque clasifica a\n",
        "#### la mayoria como con neumonía, entonces usaremos el AUC que mide la capacidad e clasificación de neumoinía en balance con los noramles mal calsificados\n"
      ],
      "metadata": {
        "id": "KejTedjz2Wmf"
      },
      "execution_count": null,
      "outputs": []
    },
    {
      "cell_type": "code",
      "source": [
        "y_train.shape"
      ],
      "metadata": {
        "colab": {
          "base_uri": "https://localhost:8080/"
        },
        "id": "y5fkoSg43bp_",
        "outputId": "1c5c8452-9846-404a-d660-2d3e60bec09a"
      },
      "execution_count": 7,
      "outputs": [
        {
          "output_type": "execute_result",
          "data": {
            "text/plain": [
              "(3360, 1)"
            ]
          },
          "metadata": {},
          "execution_count": 7
        }
      ]
    },
    {
      "cell_type": "code",
      "source": [
        "############################################################\n",
        "################ Probar modelos de redes neuronales #########\n",
        "############################################################\n",
        "\n",
        "\n",
        "fc_model=tf.keras.models.Sequential([\n",
        "    tf.keras.layers.Flatten(input_shape=x_train.shape[1:]),\n",
        "    tf.keras.layers.Dense(128, activation='relu'),\n",
        "    tf.keras.layers.Dense(64, activation='relu'),\n",
        "    tf.keras.layers.Dense(1, activation='sigmoid')\n",
        "])\n"
      ],
      "metadata": {
        "id": "ZGPhcpG12u3O"
      },
      "execution_count": 8,
      "outputs": []
    },
    {
      "cell_type": "code",
      "source": [
        "##### configura el optimizador y la función para optimizar ##############\n",
        "\n",
        "fc_model.compile(optimizer='adam', loss='binary_crossentropy', metrics=['accuracy','AUC', 'Recall', 'Precision'])\n",
        "\n",
        "\n",
        "#####Entrenar el modelo usando el optimizador y arquitectura definidas #########\n",
        "fc_model.fit(x_train, y_train, batch_size=100, epochs=10, validation_data=(x_test, y_test))\n",
        "\n",
        "\n",
        "#########Evaluar el modelo ####################\n",
        "test_loss, test_acc, test_auc, test_recall, test_precision = fc_model.evaluate(x_test, y_test, verbose=2)\n",
        "print(\"Test auc:\", test_auc)\n"
      ],
      "metadata": {
        "id": "2rEYrh70mtlQ",
        "outputId": "90dd0130-6fae-406f-be84-d04084dc4662",
        "colab": {
          "base_uri": "https://localhost:8080/"
        }
      },
      "execution_count": 9,
      "outputs": [
        {
          "output_type": "stream",
          "name": "stdout",
          "text": [
            "Epoch 1/10\n",
            "34/34 [==============================] - 8s 157ms/step - loss: 1.0134 - accuracy: 0.8036 - auc: 0.7318 - recall: 0.4179 - precision: 0.4120 - val_loss: 0.3259 - val_accuracy: 0.8869 - val_auc: 0.9447 - val_recall: 0.3571 - val_precision: 0.9091\n",
            "Epoch 2/10\n",
            "34/34 [==============================] - 3s 88ms/step - loss: 0.2531 - accuracy: 0.9152 - auc: 0.9312 - recall: 0.7000 - precision: 0.7701 - val_loss: 0.2456 - val_accuracy: 0.8750 - val_auc: 0.9729 - val_recall: 0.2929 - val_precision: 0.8723\n",
            "Epoch 3/10\n",
            "34/34 [==============================] - 3s 86ms/step - loss: 0.1514 - accuracy: 0.9429 - auc: 0.9697 - recall: 0.7482 - precision: 0.8915 - val_loss: 0.6648 - val_accuracy: 0.8357 - val_auc: 0.9349 - val_recall: 0.0214 - val_precision: 0.7500\n",
            "Epoch 4/10\n",
            "34/34 [==============================] - 4s 111ms/step - loss: 0.1589 - accuracy: 0.9452 - auc: 0.9647 - recall: 0.7679 - precision: 0.8884 - val_loss: 0.2765 - val_accuracy: 0.8500 - val_auc: 0.9824 - val_recall: 0.1143 - val_precision: 0.8889\n",
            "Epoch 5/10\n",
            "34/34 [==============================] - 5s 159ms/step - loss: 0.1252 - accuracy: 0.9554 - auc: 0.9802 - recall: 0.7946 - precision: 0.9271 - val_loss: 0.2375 - val_accuracy: 0.8643 - val_auc: 0.9836 - val_recall: 0.2071 - val_precision: 0.9062\n",
            "Epoch 6/10\n",
            "34/34 [==============================] - 5s 136ms/step - loss: 0.1198 - accuracy: 0.9568 - auc: 0.9812 - recall: 0.8161 - precision: 0.9158 - val_loss: 0.3233 - val_accuracy: 0.8440 - val_auc: 0.9841 - val_recall: 0.0714 - val_precision: 0.9091\n",
            "Epoch 7/10\n",
            "34/34 [==============================] - 5s 135ms/step - loss: 0.1106 - accuracy: 0.9568 - auc: 0.9859 - recall: 0.8214 - precision: 0.9109 - val_loss: 0.2102 - val_accuracy: 0.8798 - val_auc: 0.9866 - val_recall: 0.2929 - val_precision: 0.9535\n",
            "Epoch 8/10\n",
            "34/34 [==============================] - 8s 227ms/step - loss: 0.1740 - accuracy: 0.9390 - auc: 0.9572 - recall: 0.7429 - precision: 0.8721 - val_loss: 0.1285 - val_accuracy: 0.9583 - val_auc: 0.9878 - val_recall: 0.9214 - val_precision: 0.8431\n",
            "Epoch 9/10\n",
            "34/34 [==============================] - 4s 130ms/step - loss: 0.2013 - accuracy: 0.9357 - auc: 0.9577 - recall: 0.7732 - precision: 0.8295 - val_loss: 0.1294 - val_accuracy: 0.9536 - val_auc: 0.9861 - val_recall: 0.8000 - val_precision: 0.9106\n",
            "Epoch 10/10\n",
            "34/34 [==============================] - 4s 116ms/step - loss: 0.1311 - accuracy: 0.9506 - auc: 0.9784 - recall: 0.8161 - precision: 0.8788 - val_loss: 0.1297 - val_accuracy: 0.9524 - val_auc: 0.9891 - val_recall: 0.7500 - val_precision: 0.9545\n",
            "27/27 - 0s - loss: 0.1297 - accuracy: 0.9524 - auc: 0.9891 - recall: 0.7500 - precision: 0.9545 - 394ms/epoch - 15ms/step\n",
            "Test auc: 0.989107072353363\n"
          ]
        }
      ]
    },
    {
      "cell_type": "code",
      "source": [
        "x_test.shape"
      ],
      "metadata": {
        "id": "HDvqeYMgm7_w",
        "outputId": "4187ffa5-0181-41fd-fbd5-ff3485adfd78",
        "colab": {
          "base_uri": "https://localhost:8080/"
        }
      },
      "execution_count": 10,
      "outputs": [
        {
          "output_type": "execute_result",
          "data": {
            "text/plain": [
              "(840, 100, 100, 3)"
            ]
          },
          "metadata": {},
          "execution_count": 10
        }
      ]
    },
    {
      "cell_type": "code",
      "source": [
        "###### matriz de confusión test\n",
        "pred_test=(fc_model.predict(x_test) > 0.50).astype('int')\n",
        "cm=metrics.confusion_matrix(y_test,pred_test, labels=[1,0])\n",
        "disp=metrics.ConfusionMatrixDisplay(cm,display_labels=['Pneu', 'Normal'])\n",
        "disp.plot()\n",
        "\n",
        "print(metrics.classification_report(y_test, pred_test))"
      ],
      "metadata": {
        "id": "s5IDdPj4nDr2",
        "outputId": "1c2f44cc-9ab6-4c03-8584-00b8bc727d02",
        "colab": {
          "base_uri": "https://localhost:8080/",
          "height": 623
        }
      },
      "execution_count": 11,
      "outputs": [
        {
          "output_type": "stream",
          "name": "stdout",
          "text": [
            "27/27 [==============================] - 2s 37ms/step\n",
            "              precision    recall  f1-score   support\n",
            "\n",
            "           0       0.95      0.99      0.97       700\n",
            "           1       0.95      0.75      0.84       140\n",
            "\n",
            "    accuracy                           0.95       840\n",
            "   macro avg       0.95      0.87      0.91       840\n",
            "weighted avg       0.95      0.95      0.95       840\n",
            "\n"
          ]
        },
        {
          "output_type": "display_data",
          "data": {
            "text/plain": [
              "<Figure size 640x480 with 2 Axes>"
            ],
            "image/png": "[encoded data removed]"
          },
          "metadata": {}
        }
      ]
    },
    {
      "cell_type": "code",
      "source": [
        "#################### exportar red ##############\n",
        "# guardar modelo\n",
        "fc_model.save('path_to_my_model.h5')"
      ],
      "metadata": {
        "id": "uMQ9fIscnJeX",
        "outputId": "2175c141-a524-4445-e2d8-db054d55e100",
        "colab": {
          "base_uri": "https://localhost:8080/"
        }
      },
      "execution_count": 12,
      "outputs": [
        {
          "output_type": "stream",
          "name": "stderr",
          "text": [
            "/usr/local/lib/python3.10/dist-packages/keras/src/engine/training.py:3103: UserWarning: You are saving your model as an HDF5 file via `model.save()`. This file format is considered legacy. We recommend using instead the native Keras format, e.g. `model.save('my_model.keras')`.\n",
            "  saving_api.save_model(\n"
          ]
        }
      ]
    },
    {
      "cell_type": "code",
      "source": [
        "#########################################################################################\n",
        "#########################################################################################\n",
        "###########Estrategias a usar: regilarization usar una a la vez para ver impacto\n",
        "#########################################################################################\n",
        "###############################################################\n",
        "\n",
        "dropout_rate = 0.3 ## porcentaje de neuronas que elimina\n",
        "\n",
        "fc_model2=tf.keras.models.Sequential([\n",
        "    tf.keras.layers.Flatten(input_shape=x_train.shape[1:]),\n",
        "    tf.keras.layers.Dense(128, activation='relu'),\n",
        "    tf.keras.layers.Dropout(dropout_rate),\n",
        "    tf.keras.layers.Dense(64, activation='relu'),\n",
        "    tf.keras.layers.Dropout(dropout_rate),\n",
        "    tf.keras.layers.Dense(1, activation='sigmoid')\n",
        "])\n",
        "##### configura el optimizador y la función para optimizar ##############\n",
        "\n",
        "\n",
        "fc_model2.compile(optimizer='adam', loss='binary_crossentropy', metrics=['AUC'])"
      ],
      "metadata": {
        "id": "cQhm42e5nXce"
      },
      "execution_count": 13,
      "outputs": []
    },
    {
      "cell_type": "code",
      "source": [
        "#####Entrenar el modelo usando el optimizador y arquitectura definidas #########\n",
        "fc_model2.fit(x_train, y_train, batch_size=100, epochs=7, validation_data=(x_test, y_test))"
      ],
      "metadata": {
        "id": "HAl0Fn2dnfRH",
        "outputId": "210f3db2-9ae6-48fa-d9d0-37de7d8b1baf",
        "colab": {
          "base_uri": "https://localhost:8080/"
        }
      },
      "execution_count": 15,
      "outputs": [
        {
          "output_type": "stream",
          "name": "stdout",
          "text": [
            "Epoch 1/7\n",
            "34/34 [==============================] - 5s 97ms/step - loss: 1.3806 - auc: 0.6820 - val_loss: 0.3470 - val_auc: 0.9429\n",
            "Epoch 2/7\n",
            "34/34 [==============================] - 4s 122ms/step - loss: 0.2464 - auc: 0.9241 - val_loss: 0.2461 - val_auc: 0.9620\n",
            "Epoch 3/7\n",
            "34/34 [==============================] - 3s 100ms/step - loss: 0.1950 - auc: 0.9531 - val_loss: 0.3257 - val_auc: 0.9705\n",
            "Epoch 4/7\n",
            "34/34 [==============================] - 3s 82ms/step - loss: 0.2003 - auc: 0.9494 - val_loss: 0.2264 - val_auc: 0.9805\n",
            "Epoch 5/7\n",
            "34/34 [==============================] - 3s 82ms/step - loss: 0.1814 - auc: 0.9597 - val_loss: 0.2386 - val_auc: 0.9808\n",
            "Epoch 6/7\n",
            "34/34 [==============================] - 3s 80ms/step - loss: 0.1518 - auc: 0.9704 - val_loss: 0.2450 - val_auc: 0.9813\n",
            "Epoch 7/7\n",
            "34/34 [==============================] - 5s 140ms/step - loss: 0.1505 - auc: 0.9721 - val_loss: 0.1985 - val_auc: 0.9908\n"
          ]
        },
        {
          "output_type": "execute_result",
          "data": {
            "text/plain": [
              "<keras.src.callbacks.History at 0x7c6563f97cd0>"
            ]
          },
          "metadata": {},
          "execution_count": 15
        }
      ]
    },
    {
      "cell_type": "code",
      "source": [
        "####################### aplicar dos regularizaciones L2 y drop out\n",
        "###Penaliza el tamaño de los pesos, mientras más grande la penalización menores son los valores de los coeficientes\n",
        "\n",
        "reg_strength = 0.001\n",
        "###########Estrategias a usar: regilarization usar una a la vez para ver impacto\n",
        "dropout_rate = 0.3 ## porcentaje de neuronas que utiliza\n",
        "\n",
        "fc_model3=tf.keras.models.Sequential([\n",
        "    tf.keras.layers.Flatten(input_shape=x_train.shape[1:]),\n",
        "    tf.keras.layers.Dense(128, activation='relu', kernel_regularizer=tf.keras.regularizers.l2(reg_strength)),\n",
        "    tf.keras.layers.Dropout(dropout_rate),\n",
        "    tf.keras.layers.Dense(64, activation='relu', kernel_regularizer=tf.keras.regularizers.l2(reg_strength)),\n",
        "    tf.keras.layers.Dropout(dropout_rate),\n",
        "    tf.keras.layers.Dense(1, activation='sigmoid')\n",
        "])\n",
        "##### configura el optimizador y la función para optimizar ##############\n",
        "fc_model3.compile(optimizer='adam', loss='binary_crossentropy', metrics=['AUC'])"
      ],
      "metadata": {
        "id": "xkSufds5nqE2"
      },
      "execution_count": 17,
      "outputs": []
    },
    {
      "cell_type": "code",
      "source": [
        "#####Entrenar el modelo usando el optimizador y arquitectura definidas #########\n",
        "fc_model3.fit(x_train, y_train, batch_size=100, epochs=10, validation_data=(x_test, y_test))"
      ],
      "metadata": {
        "id": "8vr18sANn0SO",
        "outputId": "d11388b2-5306-4de5-a6d3-e136e11ea719",
        "colab": {
          "base_uri": "https://localhost:8080/"
        }
      },
      "execution_count": 19,
      "outputs": [
        {
          "output_type": "stream",
          "name": "stdout",
          "text": [
            "Epoch 1/10\n",
            "34/34 [==============================] - 8s 173ms/step - loss: 1.8455 - auc: 0.6621 - val_loss: 0.5410 - val_auc: 0.9512\n",
            "Epoch 2/10\n",
            "34/34 [==============================] - 4s 110ms/step - loss: 0.5392 - auc: 0.9200 - val_loss: 0.5341 - val_auc: 0.9727\n",
            "Epoch 3/10\n",
            "34/34 [==============================] - 4s 108ms/step - loss: 0.4638 - auc: 0.9401 - val_loss: 0.4422 - val_auc: 0.9675\n",
            "Epoch 4/10\n",
            "34/34 [==============================] - 6s 171ms/step - loss: 0.4006 - auc: 0.9596 - val_loss: 0.4087 - val_auc: 0.9825\n",
            "Epoch 5/10\n",
            "34/34 [==============================] - 4s 113ms/step - loss: 0.3875 - auc: 0.9508 - val_loss: 0.3819 - val_auc: 0.9636\n",
            "Epoch 6/10\n",
            "34/34 [==============================] - 4s 108ms/step - loss: 0.3761 - auc: 0.9509 - val_loss: 0.3433 - val_auc: 0.9879\n",
            "Epoch 7/10\n",
            "34/34 [==============================] - 5s 152ms/step - loss: 0.3687 - auc: 0.9441 - val_loss: 0.3763 - val_auc: 0.9805\n",
            "Epoch 8/10\n",
            "34/34 [==============================] - 4s 119ms/step - loss: 0.3447 - auc: 0.9449 - val_loss: 0.3403 - val_auc: 0.9852\n",
            "Epoch 9/10\n",
            "34/34 [==============================] - 4s 118ms/step - loss: 0.3305 - auc: 0.9448 - val_loss: 0.3307 - val_auc: 0.9756\n",
            "Epoch 10/10\n",
            "34/34 [==============================] - 4s 114ms/step - loss: 0.3355 - auc: 0.9352 - val_loss: 0.3065 - val_auc: 0.9785\n"
          ]
        },
        {
          "output_type": "execute_result",
          "data": {
            "text/plain": [
              "<keras.src.callbacks.History at 0x7c6563dd4df0>"
            ]
          },
          "metadata": {},
          "execution_count": 19
        }
      ]
    },
    {
      "cell_type": "code",
      "source": [
        "############# Disminuir el numero de neuronas a la mitad\n",
        "\n",
        "reg_strength = 0.001\n",
        "\n",
        "###########Estrategias a usar: regilarization usar una a la vez para ver impacto\n",
        "dropout_rate = 0.3 ## porcentaje de neuronas que utiliza\n",
        "\n",
        "fc_model4=tf.keras.models.Sequential([\n",
        "    tf.keras.layers.Flatten(input_shape=x_train.shape[1:]),\n",
        "    tf.keras.layers.Dense(64, activation='relu', kernel_regularizer=tf.keras.regularizers.l2(reg_strength)),\n",
        "    tf.keras.layers.Dropout(dropout_rate),\n",
        "    tf.keras.layers.Dense(32, activation='relu', kernel_regularizer=tf.keras.regularizers.l2(reg_strength)),\n",
        "    tf.keras.layers.Dropout(dropout_rate),\n",
        "    tf.keras.layers.Dense(1, activation='sigmoid')\n",
        "])\n",
        "##### configura el optimizador y la función para optimizar ##############\n",
        "\n",
        "\n",
        "\n",
        "fc_model4.compile(optimizer='adam', loss='binary_crossentropy', metrics=['AUC'])"
      ],
      "metadata": {
        "id": "VjGHHg8eoC5W"
      },
      "execution_count": 20,
      "outputs": []
    },
    {
      "cell_type": "code",
      "source": [
        "#####Entrenar el modelo usando el optimizador y arquitectura definidas #########\n",
        "fc_model4.fit(x_train, y_train, batch_size=100, epochs=10, validation_data=(x_test, y_test))"
      ],
      "metadata": {
        "id": "ekAnVnwSoNsl",
        "outputId": "f4f797b8-765a-47fb-b021-c356080c6c90",
        "colab": {
          "base_uri": "https://localhost:8080/"
        }
      },
      "execution_count": 21,
      "outputs": [
        {
          "output_type": "stream",
          "name": "stdout",
          "text": [
            "Epoch 1/10\n",
            "34/34 [==============================] - 4s 76ms/step - loss: 1.3815 - auc: 0.6114 - val_loss: 0.4967 - val_auc: 0.9305\n",
            "Epoch 2/10\n",
            "34/34 [==============================] - 2s 65ms/step - loss: 0.5045 - auc: 0.8361 - val_loss: 0.4350 - val_auc: 0.9514\n",
            "Epoch 3/10\n",
            "34/34 [==============================] - 2s 67ms/step - loss: 0.4429 - auc: 0.8847 - val_loss: 0.3950 - val_auc: 0.9730\n",
            "Epoch 4/10\n",
            "34/34 [==============================] - 3s 89ms/step - loss: 0.3898 - auc: 0.9180 - val_loss: 0.3354 - val_auc: 0.9806\n",
            "Epoch 5/10\n",
            "34/34 [==============================] - 3s 86ms/step - loss: 0.3718 - auc: 0.9218 - val_loss: 0.3245 - val_auc: 0.9790\n",
            "Epoch 6/10\n",
            "34/34 [==============================] - 2s 66ms/step - loss: 0.3548 - auc: 0.9257 - val_loss: 0.2936 - val_auc: 0.9798\n",
            "Epoch 7/10\n",
            "34/34 [==============================] - 2s 59ms/step - loss: 0.3347 - auc: 0.9357 - val_loss: 0.2946 - val_auc: 0.9841\n",
            "Epoch 8/10\n",
            "34/34 [==============================] - 2s 55ms/step - loss: 0.3323 - auc: 0.9190 - val_loss: 0.2634 - val_auc: 0.9819\n",
            "Epoch 9/10\n",
            "34/34 [==============================] - 2s 57ms/step - loss: 0.3269 - auc: 0.9145 - val_loss: 0.2820 - val_auc: 0.9849\n",
            "Epoch 10/10\n",
            "34/34 [==============================] - 2s 66ms/step - loss: 0.3131 - auc: 0.9190 - val_loss: 0.2532 - val_auc: 0.9832\n"
          ]
        },
        {
          "output_type": "execute_result",
          "data": {
            "text/plain": [
              "<keras.src.callbacks.History at 0x7c6563bc2cb0>"
            ]
          },
          "metadata": {},
          "execution_count": 21
        }
      ]
    },
    {
      "cell_type": "code",
      "source": [
        "reg_strength = 0.001\n",
        "\n",
        "###########Estrategias a usar: regilarization usar una a la vez para ver impacto\n",
        "dropout_rate = 0.2 ## porcentaje de neuronas que utiliza\n",
        "\n",
        "fc_model5=tf.keras.models.Sequential([\n",
        "    tf.keras.layers.Flatten(input_shape=x_train.shape[1:]),\n",
        "    tf.keras.layers.Dense(64, activation='relu', kernel_regularizer=tf.keras.regularizers.l2(reg_strength)),\n",
        "    tf.keras.layers.Dropout(dropout_rate),\n",
        "    tf.keras.layers.Dense(64, activation='relu', kernel_regularizer=tf.keras.regularizers.l2(reg_strength)),\n",
        "    tf.keras.layers.Dropout(dropout_rate),\n",
        "    tf.keras.layers.Dense(32, activation='relu', kernel_regularizer=tf.keras.regularizers.l2(reg_strength)),\n",
        "    tf.keras.layers.Dropout(dropout_rate),\n",
        "    tf.keras.layers.Dense(1, activation='sigmoid')\n",
        "])\n",
        "##### configura el optimizador y la función para optimizar ##############\n",
        "\n",
        "\n",
        "\n",
        "fc_model5.compile(optimizer='adam', loss='binary_crossentropy', metrics=['AUC'])"
      ],
      "metadata": {
        "id": "tlgWHuxXofh8"
      },
      "execution_count": 22,
      "outputs": []
    },
    {
      "cell_type": "code",
      "source": [
        "#####Entrenar el modelo usando el optimizador y arquitectura definidas #########\n",
        "fc_model5.fit(x_train, y_train, batch_size=100, epochs=10, validation_data=(x_test, y_test))"
      ],
      "metadata": {
        "id": "OPcLo0_QojXU",
        "outputId": "e79bd75a-0664-4cff-a117-b06ba1b4f5a4",
        "colab": {
          "base_uri": "https://localhost:8080/"
        }
      },
      "execution_count": 23,
      "outputs": [
        {
          "output_type": "stream",
          "name": "stdout",
          "text": [
            "Epoch 1/10\n",
            "34/34 [==============================] - 7s 116ms/step - loss: 1.1008 - auc: 0.6345 - val_loss: 0.5150 - val_auc: 0.9615\n",
            "Epoch 2/10\n",
            "34/34 [==============================] - 2s 49ms/step - loss: 0.4718 - auc: 0.9142 - val_loss: 0.3636 - val_auc: 0.9727\n",
            "Epoch 3/10\n",
            "34/34 [==============================] - 2s 49ms/step - loss: 0.4089 - auc: 0.9348 - val_loss: 0.4537 - val_auc: 0.9778\n",
            "Epoch 4/10\n",
            "34/34 [==============================] - 2s 53ms/step - loss: 0.3633 - auc: 0.9473 - val_loss: 0.3770 - val_auc: 0.9773\n",
            "Epoch 5/10\n",
            "34/34 [==============================] - 3s 84ms/step - loss: 0.3168 - auc: 0.9653 - val_loss: 0.3735 - val_auc: 0.9823\n",
            "Epoch 6/10\n",
            "34/34 [==============================] - 3s 76ms/step - loss: 0.3265 - auc: 0.9543 - val_loss: 0.3794 - val_auc: 0.9770\n",
            "Epoch 7/10\n",
            "34/34 [==============================] - 2s 48ms/step - loss: 0.3142 - auc: 0.9547 - val_loss: 0.3032 - val_auc: 0.9807\n",
            "Epoch 8/10\n",
            "34/34 [==============================] - 2s 50ms/step - loss: 0.2991 - auc: 0.9572 - val_loss: 0.3783 - val_auc: 0.9838\n",
            "Epoch 9/10\n",
            "34/34 [==============================] - 2s 56ms/step - loss: 0.3089 - auc: 0.9447 - val_loss: 0.2978 - val_auc: 0.9816\n",
            "Epoch 10/10\n",
            "34/34 [==============================] - 2s 49ms/step - loss: 0.2799 - auc: 0.9570 - val_loss: 0.2655 - val_auc: 0.9824\n"
          ]
        },
        {
          "output_type": "execute_result",
          "data": {
            "text/plain": [
              "<keras.src.callbacks.History at 0x7c65639e3640>"
            ]
          },
          "metadata": {},
          "execution_count": 23
        }
      ]
    },
    {
      "cell_type": "code",
      "source": [
        "reg_strength = 0.001\n",
        "\n",
        "###########Estrategias a usar: regilarization usar una a la vez para ver impacto\n",
        "dropout_rate = 0.35 ## porcentaje de neuronas que utiliza\n",
        "\n",
        "fc_model=tf.keras.models.Sequential([\n",
        "    tf.keras.layers.Flatten(input_shape=x_train.shape[1:]),\n",
        "    tf.keras.layers.Dense(128, activation='relu', kernel_regularizer=tf.keras.regularizers.l2(reg_strength)),\n",
        "    tf.keras.layers.Dropout(dropout_rate),\n",
        "    tf.keras.layers.Dense(64, activation='relu', kernel_regularizer=tf.keras.regularizers.l2(reg_strength)),\n",
        "    tf.keras.layers.Dropout(dropout_rate),\n",
        "    tf.keras.layers.Dense(1, activation='sigmoid')\n",
        "])\n",
        "##### configura el optimizador y la función para optimizar ##############\n",
        "\n",
        "\n",
        "\n",
        "fc_model.compile(optimizer='adam', loss='binary_crossentropy', metrics=['AUC'])\n"
      ],
      "metadata": {
        "id": "5zyrD-NdosXu"
      },
      "execution_count": 24,
      "outputs": []
    },
    {
      "cell_type": "code",
      "source": [
        "#####Entrenar el modelo usando el optimizador y arquitectura definidas #########\n",
        "fc_model.fit(x_train, y_train, batch_size=100, epochs=10, validation_data=(x_test, y_test))"
      ],
      "metadata": {
        "id": "2QFdsuhPovqT",
        "outputId": "ddcd3052-120a-46d4-caeb-449aefe81b5f",
        "colab": {
          "base_uri": "https://localhost:8080/"
        }
      },
      "execution_count": 25,
      "outputs": [
        {
          "output_type": "stream",
          "name": "stdout",
          "text": [
            "Epoch 1/10\n",
            "34/34 [==============================] - 7s 147ms/step - loss: 2.5512 - auc: 0.6091 - val_loss: 0.5635 - val_auc: 0.9415\n",
            "Epoch 2/10\n",
            "34/34 [==============================] - 4s 112ms/step - loss: 0.6283 - auc: 0.8786 - val_loss: 0.5239 - val_auc: 0.9609\n",
            "Epoch 3/10\n",
            "34/34 [==============================] - 4s 133ms/step - loss: 0.5582 - auc: 0.9059 - val_loss: 0.5743 - val_auc: 0.9663\n",
            "Epoch 4/10\n",
            "34/34 [==============================] - 6s 182ms/step - loss: 0.5023 - auc: 0.9231 - val_loss: 0.4599 - val_auc: 0.9730\n",
            "Epoch 5/10\n",
            "34/34 [==============================] - 9s 249ms/step - loss: 0.4446 - auc: 0.9406 - val_loss: 0.3915 - val_auc: 0.9812\n",
            "Epoch 6/10\n",
            "34/34 [==============================] - 7s 203ms/step - loss: 0.4076 - auc: 0.9474 - val_loss: 0.5641 - val_auc: 0.9763\n",
            "Epoch 7/10\n",
            "34/34 [==============================] - 8s 223ms/step - loss: 0.3869 - auc: 0.9436 - val_loss: 0.3141 - val_auc: 0.9776\n",
            "Epoch 8/10\n",
            "34/34 [==============================] - 4s 131ms/step - loss: 0.3711 - auc: 0.9528 - val_loss: 0.3231 - val_auc: 0.9861\n",
            "Epoch 9/10\n",
            "34/34 [==============================] - 6s 180ms/step - loss: 0.3402 - auc: 0.9577 - val_loss: 0.3152 - val_auc: 0.9871\n",
            "Epoch 10/10\n",
            "34/34 [==============================] - 3s 100ms/step - loss: 0.3188 - auc: 0.9575 - val_loss: 0.3134 - val_auc: 0.9794\n"
          ]
        },
        {
          "output_type": "execute_result",
          "data": {
            "text/plain": [
              "<keras.src.callbacks.History at 0x7c65609b44f0>"
            ]
          },
          "metadata": {},
          "execution_count": 25
        }
      ]
    }
  ]
}