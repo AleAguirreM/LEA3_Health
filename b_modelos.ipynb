{
  "nbformat": 4,
  "nbformat_minor": 0,
  "metadata": {
    "colab": {
      "provenance": [],
      "include_colab_link": true
    },
    "kernelspec": {
      "name": "python3",
      "display_name": "Python 3"
    },
    "language_info": {
      "name": "python"
    }
  },
  "cells": [
    {
      "cell_type": "markdown",
      "metadata": {
        "id": "view-in-github",
        "colab_type": "text"
      },
      "source": [
        "<a href=\"https://colab.research.google.com/github/AleAguirreM/LEA3_Health/blob/main/b_modelos.ipynb\" target=\"_parent\"><img src=\"https://colab.research.google.com/assets/colab-badge.svg\" alt=\"Open In Colab\"/></a>"
      ]
    },
    {
      "cell_type": "code",
      "source": [
        "from google.colab import drive\n",
        "drive.mount('/content/drive')"
      ],
      "metadata": {
        "colab": {
          "base_uri": "https://localhost:8080/"
        },
        "id": "EphtiL-V0hy2",
        "outputId": "bbfba7f4-fa22-46a5-b87f-624b10acf338"
      },
      "execution_count": 35,
      "outputs": [
        {
          "output_type": "stream",
          "name": "stdout",
          "text": [
            "Drive already mounted at /content/drive; to attempt to forcibly remount, call drive.mount(\"/content/drive\", force_remount=True).\n"
          ]
        }
      ]
    },
    {
      "cell_type": "code",
      "execution_count": 36,
      "metadata": {
        "id": "D0n_Fnjnz8PT"
      },
      "outputs": [],
      "source": [
        "import numpy as np\n",
        "import joblib ### para cargar array\n",
        "########Paquetes para NN #########\n",
        "import tensorflow as tf\n",
        "from sklearn import metrics ### para analizar modelo\n",
        "from sklearn.ensemble import RandomForestClassifier  ### para analizar modelo\n",
        "import pandas as pd\n",
        "from sklearn import tree\n",
        "import cv2 ### para leer imagenes jpeg\n",
        "from matplotlib import pyplot as plt #"
      ]
    },
    {
      "cell_type": "code",
      "source": [
        "### cargar bases_procesadas ####\n",
        "x_train = joblib.load('/content/drive/MyDrive/TB_Chest_Radiography_Database/salidas/x_train.pkl')\n",
        "y_train = joblib.load('/content/drive/MyDrive/TB_Chest_Radiography_Database/salidas/y_train.pkl')\n",
        "x_test = joblib.load('/content/drive/MyDrive/TB_Chest_Radiography_Database/salidas/x_test.pkl')\n",
        "y_test = joblib.load('/content/drive/MyDrive/TB_Chest_Radiography_Database/salidas/y_test.pkl')"
      ],
      "metadata": {
        "id": "KgxSXwb30DrX"
      },
      "execution_count": 37,
      "outputs": []
    },
    {
      "cell_type": "code",
      "source": [
        "#### Escalar ######################\n",
        "x_train = x_train.astype('float32') ## para poder escalarlo\n",
        "x_test = x_test.astype('float32') ## para poder escalarlo\n",
        "x_train /=255 ### escalaro para que quede entre 0 y 1\n",
        "x_test /=255\n",
        "\n",
        "###### verificar tamaños\n",
        "print(x_train.shape)\n",
        "x_test.shape"
      ],
      "metadata": {
        "colab": {
          "base_uri": "https://localhost:8080/"
        },
        "id": "E24SvmNi1FGi",
        "outputId": "2eeff294-7ee9-4867-f730-0450ec01944f"
      },
      "execution_count": 38,
      "outputs": [
        {
          "output_type": "stream",
          "name": "stdout",
          "text": [
            "(3360, 100, 100, 3)\n"
          ]
        },
        {
          "output_type": "execute_result",
          "data": {
            "text/plain": [
              "(840, 100, 100, 3)"
            ]
          },
          "metadata": {},
          "execution_count": 38
        }
      ]
    },
    {
      "cell_type": "code",
      "source": [
        "np.product(x_train[1].shape) ## cantidad de variables por imagen"
      ],
      "metadata": {
        "colab": {
          "base_uri": "https://localhost:8080/"
        },
        "id": "Pq_IX90-2PAO",
        "outputId": "e8aeb7de-8434-435e-e4bc-e6ddd514fe20"
      },
      "execution_count": 59,
      "outputs": [
        {
          "output_type": "execute_result",
          "data": {
            "text/plain": [
              "30000"
            ]
          },
          "metadata": {},
          "execution_count": 59
        }
      ]
    },
    {
      "cell_type": "code",
      "source": [
        "np.unique(y_train, return_counts=True)\n",
        "np.unique(y_test, return_counts=True)\n",
        "\n",
        "##### convertir a 1 d array ############\n",
        "x_train2 = x_train.reshape(3360,30000)\n",
        "x_test2 = x_test.reshape(840, 30000)\n",
        "print(x_train2.shape)\n",
        "x_test2.shape"
      ],
      "metadata": {
        "colab": {
          "base_uri": "https://localhost:8080/"
        },
        "id": "7d7h8kXC1tZr",
        "outputId": "9ac9874f-b0c1-4659-9792-98f2f4226535"
      },
      "execution_count": 40,
      "outputs": [
        {
          "output_type": "stream",
          "name": "stdout",
          "text": [
            "(3360, 30000)\n"
          ]
        },
        {
          "output_type": "execute_result",
          "data": {
            "text/plain": [
              "(840, 30000)"
            ]
          },
          "metadata": {},
          "execution_count": 40
        }
      ]
    },
    {
      "cell_type": "code",
      "source": [
        "############################################################\n",
        "###############Seleccionar un indicador ################\n",
        "############################################################\n",
        "\n",
        "### Precision Tasa de acierto en predichos positivos ( qué porcentaje de personas identificada con tuberculosis realmente tienen)\n",
        "### Recall: Tasa de identficación de positivos (de los que tenían tuberculosis cuantos predije tenían)\n",
        "### F1_Socre: Combina Precions y recall (promedio entre dos anteriores)\n",
        "### Acurracy: Porcentaje de acertados\n",
        "### AUC: detección de positivos vs mala clasificaicón de negativos: porcentaje de los que neumonía que identifico vs los normales que digo que tiene neumonía\n",
        "\n",
        "############ Analisis problema ###########\n",
        "#### me interesa recall: de los enfermos que los pueda detectar, sin embargo\n",
        "#### el problema es que puede generar mucho trabajo porque clasifica a\n",
        "#### la mayoria como con neumonía, entonces usaremos el AUC que mide la capacidad e clasificación de neumoinía en balance con los noramles mal calsificados\n"
      ],
      "metadata": {
        "id": "KejTedjz2Wmf"
      },
      "execution_count": 41,
      "outputs": []
    },
    {
      "cell_type": "code",
      "source": [
        "y_train.shape"
      ],
      "metadata": {
        "colab": {
          "base_uri": "https://localhost:8080/"
        },
        "id": "y5fkoSg43bp_",
        "outputId": "34f5b4f9-b4d1-4686-bdfd-3d6a2b645715"
      },
      "execution_count": 42,
      "outputs": [
        {
          "output_type": "execute_result",
          "data": {
            "text/plain": [
              "(3360, 1)"
            ]
          },
          "metadata": {},
          "execution_count": 42
        }
      ]
    },
    {
      "cell_type": "code",
      "source": [
        "############################################################\n",
        "################ Probar modelos de redes neuronales #########\n",
        "############################################################\n",
        "\n",
        "\n",
        "fc_model=tf.keras.models.Sequential([\n",
        "    tf.keras.layers.Flatten(input_shape=x_train.shape[1:]),\n",
        "    tf.keras.layers.Dense(128, activation='relu'),\n",
        "    tf.keras.layers.Dense(64, activation='relu'),\n",
        "    tf.keras.layers.Dense(1, activation='sigmoid')\n",
        "])"
      ],
      "metadata": {
        "id": "ZGPhcpG12u3O"
      },
      "execution_count": 43,
      "outputs": []
    },
    {
      "cell_type": "code",
      "source": [
        "##### configura el optimizador y la función para optimizar ##############\n",
        "\n",
        "fc_model.compile(optimizer='adam', loss='binary_crossentropy', metrics=['accuracy','AUC', 'Recall', 'Precision'])\n",
        "\n",
        "\n",
        "#####Entrenar el modelo usando el optimizador y arquitectura definidas #########\n",
        "fc_model.fit(x_train, y_train, batch_size=100, epochs=10, validation_data=(x_test, y_test))\n",
        "\n",
        "\n",
        "#########Evaluar el modelo ####################\n",
        "test_loss, test_acc, test_auc, test_recall, test_precision = fc_model.evaluate(x_test, y_test, verbose=2)\n",
        "print(\"Test auc:\", test_auc)\n"
      ],
      "metadata": {
        "id": "2rEYrh70mtlQ",
        "outputId": "a31811de-0608-4ae0-ad39-641b08a04367",
        "colab": {
          "base_uri": "https://localhost:8080/"
        }
      },
      "execution_count": 44,
      "outputs": [
        {
          "output_type": "stream",
          "name": "stdout",
          "text": [
            "Epoch 1/10\n",
            "34/34 [==============================] - 7s 151ms/step - loss: 1.6611 - accuracy: 0.7926 - auc: 0.6807 - recall: 0.3929 - precision: 0.3813 - val_loss: 0.2734 - val_accuracy: 0.8940 - val_auc: 0.9462 - val_recall: 0.7286 - val_precision: 0.6667\n",
            "Epoch 2/10\n",
            "34/34 [==============================] - 4s 126ms/step - loss: 0.2698 - accuracy: 0.9149 - auc: 0.9289 - recall: 0.6875 - precision: 0.7762 - val_loss: 0.2084 - val_accuracy: 0.9274 - val_auc: 0.9744 - val_recall: 0.9429 - val_precision: 0.7135\n",
            "Epoch 3/10\n",
            "34/34 [==============================] - 3s 76ms/step - loss: 0.1388 - accuracy: 0.9521 - auc: 0.9746 - recall: 0.8036 - precision: 0.8982 - val_loss: 0.1577 - val_accuracy: 0.9393 - val_auc: 0.9839 - val_recall: 0.7429 - val_precision: 0.8739\n",
            "Epoch 4/10\n",
            "34/34 [==============================] - 3s 92ms/step - loss: 0.1589 - accuracy: 0.9435 - auc: 0.9667 - recall: 0.7750 - precision: 0.8715 - val_loss: 0.2400 - val_accuracy: 0.8667 - val_auc: 0.9837 - val_recall: 0.2286 - val_precision: 0.8889\n",
            "Epoch 5/10\n",
            "34/34 [==============================] - 3s 94ms/step - loss: 0.1214 - accuracy: 0.9560 - auc: 0.9804 - recall: 0.8089 - precision: 0.9170 - val_loss: 0.2619 - val_accuracy: 0.8524 - val_auc: 0.9853 - val_recall: 0.1286 - val_precision: 0.9000\n",
            "Epoch 6/10\n",
            "34/34 [==============================] - 3s 75ms/step - loss: 0.1124 - accuracy: 0.9604 - auc: 0.9839 - recall: 0.8250 - precision: 0.9296 - val_loss: 0.1787 - val_accuracy: 0.9060 - val_auc: 0.9872 - val_recall: 0.4500 - val_precision: 0.9692\n",
            "Epoch 7/10\n",
            "34/34 [==============================] - 3s 74ms/step - loss: 0.1218 - accuracy: 0.9586 - auc: 0.9772 - recall: 0.8214 - precision: 0.9218 - val_loss: 0.5058 - val_accuracy: 0.8381 - val_auc: 0.9638 - val_recall: 0.0357 - val_precision: 0.8333\n",
            "Epoch 8/10\n",
            "34/34 [==============================] - 3s 78ms/step - loss: 0.4152 - accuracy: 0.8991 - auc: 0.8907 - recall: 0.6661 - precision: 0.7105 - val_loss: 0.8652 - val_accuracy: 0.8369 - val_auc: 0.7592 - val_recall: 0.0286 - val_precision: 0.8000\n",
            "Epoch 9/10\n",
            "34/34 [==============================] - 4s 104ms/step - loss: 0.2011 - accuracy: 0.9366 - auc: 0.9541 - recall: 0.7821 - precision: 0.8280 - val_loss: 0.1329 - val_accuracy: 0.9524 - val_auc: 0.9869 - val_recall: 0.9286 - val_precision: 0.8125\n",
            "Epoch 10/10\n",
            "34/34 [==============================] - 3s 88ms/step - loss: 0.1198 - accuracy: 0.9574 - auc: 0.9816 - recall: 0.8393 - precision: 0.8987 - val_loss: 0.1386 - val_accuracy: 0.9417 - val_auc: 0.9890 - val_recall: 0.6786 - val_precision: 0.9596\n",
            "27/27 - 0s - loss: 0.1386 - accuracy: 0.9417 - auc: 0.9890 - recall: 0.6786 - precision: 0.9596 - 386ms/epoch - 14ms/step\n",
            "Test auc: 0.9890204071998596\n"
          ]
        }
      ]
    },
    {
      "cell_type": "markdown",
      "source": [
        "Podemos observar que durante la última época del entrenamiento, el modelo alcanzó una pérdida de aproximadamente 0.1297 y una precisión de alrededor del 95.24% en los datos de validación. Además, el área bajo la curva (AUC) fue de aproximadamente 0.9891, mientras que el recall y la precisión para la clase positiva fueron del 75% y 95.45%, respectivamente. Estos valores brindan una visión detallada del rendimiento del modelo en la clasificación de las muestras, lo que permite evaluar su eficacia y capacidad predictiva con mayor precisión."
      ],
      "metadata": {
        "id": "0vgrrYPfFRNw"
      }
    },
    {
      "cell_type": "code",
      "source": [
        "x_test.shape"
      ],
      "metadata": {
        "id": "HDvqeYMgm7_w",
        "outputId": "dcd0d494-5630-4891-d388-9e2e0676d93b",
        "colab": {
          "base_uri": "https://localhost:8080/"
        }
      },
      "execution_count": 45,
      "outputs": [
        {
          "output_type": "execute_result",
          "data": {
            "text/plain": [
              "(840, 100, 100, 3)"
            ]
          },
          "metadata": {},
          "execution_count": 45
        }
      ]
    },
    {
      "cell_type": "code",
      "source": [
        "###### matriz de confusión test\n",
        "pred_test=(fc_model.predict(x_test) > 0.50).astype('int')\n",
        "cm=metrics.confusion_matrix(y_test,pred_test, labels=[1,0])\n",
        "disp=metrics.ConfusionMatrixDisplay(cm,display_labels=['Pneu', 'Normal'])\n",
        "disp.plot()\n",
        "\n",
        "print(metrics.classification_report(y_test, pred_test))"
      ],
      "metadata": {
        "id": "s5IDdPj4nDr2",
        "outputId": "71be00af-fa11-4dc0-d25a-96bdab89c007",
        "colab": {
          "base_uri": "https://localhost:8080/",
          "height": 623
        }
      },
      "execution_count": 46,
      "outputs": [
        {
          "output_type": "stream",
          "name": "stdout",
          "text": [
            "27/27 [==============================] - 0s 14ms/step\n",
            "              precision    recall  f1-score   support\n",
            "\n",
            "           0       0.94      0.99      0.97       700\n",
            "           1       0.96      0.68      0.79       140\n",
            "\n",
            "    accuracy                           0.94       840\n",
            "   macro avg       0.95      0.84      0.88       840\n",
            "weighted avg       0.94      0.94      0.94       840\n",
            "\n"
          ]
        },
        {
          "output_type": "display_data",
          "data": {
            "text/plain": [
              "<Figure size 640x480 with 2 Axes>"
            ],
            "image/png": "[encoded data removed]"
          },
          "metadata": {}
        }
      ]
    },
    {
      "cell_type": "code",
      "source": [
        "#################### exportar red ##############\n",
        "# guardar modelo\n",
        "fc_model.save('path_to_my_model.h5')"
      ],
      "metadata": {
        "id": "uMQ9fIscnJeX",
        "outputId": "ef0da9ed-6580-4583-e466-2aafc9d550df",
        "colab": {
          "base_uri": "https://localhost:8080/"
        }
      },
      "execution_count": 47,
      "outputs": [
        {
          "output_type": "stream",
          "name": "stderr",
          "text": [
            "/usr/local/lib/python3.10/dist-packages/keras/src/engine/training.py:3103: UserWarning: You are saving your model as an HDF5 file via `model.save()`. This file format is considered legacy. We recommend using instead the native Keras format, e.g. `model.save('my_model.keras')`.\n",
            "  saving_api.save_model(\n"
          ]
        }
      ]
    },
    {
      "cell_type": "code",
      "source": [
        "#########################################################################################\n",
        "#########################################################################################\n",
        "###########Estrategias a usar: regilarization usar una a la vez para ver impacto\n",
        "#########################################################################################\n",
        "###############################################################\n",
        "\n",
        "dropout_rate = 0.3 ## porcentaje de neuronas que elimina\n",
        "\n",
        "fc_model2=tf.keras.models.Sequential([\n",
        "    tf.keras.layers.Flatten(input_shape=x_train.shape[1:]),\n",
        "    tf.keras.layers.Dense(128, activation='relu'),\n",
        "    tf.keras.layers.Dropout(dropout_rate),\n",
        "    tf.keras.layers.Dense(64, activation='relu'),\n",
        "    tf.keras.layers.Dropout(dropout_rate),\n",
        "    tf.keras.layers.Dense(1, activation='sigmoid')\n",
        "])\n",
        "##### configura el optimizador y la función para optimizar ##############\n",
        "\n",
        "\n",
        "fc_model2.compile(optimizer='adam', loss='binary_crossentropy', metrics=['AUC'])"
      ],
      "metadata": {
        "id": "cQhm42e5nXce"
      },
      "execution_count": 48,
      "outputs": []
    },
    {
      "cell_type": "code",
      "source": [
        "#####Entrenar el modelo usando el optimizador y arquitectura definidas #########\n",
        "fc_model2.fit(x_train, y_train, batch_size=100, epochs=7, validation_data=(x_test, y_test))"
      ],
      "metadata": {
        "id": "HAl0Fn2dnfRH",
        "outputId": "eeae5bb9-86cb-408b-b640-ee5c4553d937",
        "colab": {
          "base_uri": "https://localhost:8080/"
        }
      },
      "execution_count": 49,
      "outputs": [
        {
          "output_type": "stream",
          "name": "stdout",
          "text": [
            "Epoch 1/7\n",
            "34/34 [==============================] - 4s 94ms/step - loss: 1.2685 - auc: 0.7029 - val_loss: 0.2822 - val_auc: 0.9566\n",
            "Epoch 2/7\n",
            "34/34 [==============================] - 3s 80ms/step - loss: 0.2348 - auc: 0.9310 - val_loss: 0.1912 - val_auc: 0.9649\n",
            "Epoch 3/7\n",
            "34/34 [==============================] - 3s 79ms/step - loss: 0.2103 - auc: 0.9425 - val_loss: 0.2422 - val_auc: 0.9723\n",
            "Epoch 4/7\n",
            "34/34 [==============================] - 4s 120ms/step - loss: 0.2020 - auc: 0.9455 - val_loss: 0.1832 - val_auc: 0.9846\n",
            "Epoch 5/7\n",
            "34/34 [==============================] - 3s 80ms/step - loss: 0.1962 - auc: 0.9495 - val_loss: 0.1839 - val_auc: 0.9820\n",
            "Epoch 6/7\n",
            "34/34 [==============================] - 3s 76ms/step - loss: 0.2254 - auc: 0.9342 - val_loss: 0.1994 - val_auc: 0.9752\n",
            "Epoch 7/7\n",
            "34/34 [==============================] - 3s 76ms/step - loss: 0.2105 - auc: 0.9401 - val_loss: 0.3701 - val_auc: 0.9769\n"
          ]
        },
        {
          "output_type": "execute_result",
          "data": {
            "text/plain": [
              "<keras.src.callbacks.History at 0x7bfedcc93af0>"
            ]
          },
          "metadata": {},
          "execution_count": 49
        }
      ]
    },
    {
      "cell_type": "markdown",
      "source": [
        "El modelo logró una pérdida de alrededor de 0.1985 en los datos de validación, mientras que el área bajo la curva (AUC) fue de aproximadamente 0.9908. Durante el entrenamiento, observamos una mejora progresiva en la pérdida y el AUC en cada época, lo que indica que el modelo está aprendiendo de manera efectiva los patrones en los datos y mejorando su capacidad predictiva con cada iteración. Esto sugiere un rendimiento sólido y una buena capacidad del modelo para generalizar a datos no vistos."
      ],
      "metadata": {
        "id": "HehtoOSEFjX8"
      }
    },
    {
      "cell_type": "code",
      "source": [
        "####################### aplicar dos regularizaciones L2 y drop out\n",
        "###Penaliza el tamaño de los pesos, mientras más grande la penalización menores son los valores de los coeficientes\n",
        "\n",
        "reg_strength = 0.001\n",
        "###########Estrategias a usar: regilarization usar una a la vez para ver impacto\n",
        "dropout_rate = 0.3 ## porcentaje de neuronas que utiliza\n",
        "\n",
        "fc_model3=tf.keras.models.Sequential([\n",
        "    tf.keras.layers.Flatten(input_shape=x_train.shape[1:]),\n",
        "    tf.keras.layers.Dense(128, activation='relu', kernel_regularizer=tf.keras.regularizers.l2(reg_strength)),\n",
        "    tf.keras.layers.Dropout(dropout_rate),\n",
        "    tf.keras.layers.Dense(64, activation='relu', kernel_regularizer=tf.keras.regularizers.l2(reg_strength)),\n",
        "    tf.keras.layers.Dropout(dropout_rate),\n",
        "    tf.keras.layers.Dense(1, activation='sigmoid')\n",
        "])\n",
        "##### configura el optimizador y la función para optimizar ##############\n",
        "fc_model3.compile(optimizer='adam', loss='binary_crossentropy', metrics=['AUC'])"
      ],
      "metadata": {
        "id": "xkSufds5nqE2"
      },
      "execution_count": 50,
      "outputs": []
    },
    {
      "cell_type": "code",
      "source": [
        "#####Entrenar el modelo usando el optimizador y arquitectura definidas #########\n",
        "fc_model3.fit(x_train, y_train, batch_size=100, epochs=10, validation_data=(x_test, y_test))"
      ],
      "metadata": {
        "id": "8vr18sANn0SO",
        "outputId": "cfc28ef7-e49e-43df-e21e-2b0f21a336b3",
        "colab": {
          "base_uri": "https://localhost:8080/"
        }
      },
      "execution_count": 51,
      "outputs": [
        {
          "output_type": "stream",
          "name": "stdout",
          "text": [
            "Epoch 1/10\n",
            "34/34 [==============================] - 6s 140ms/step - loss: 1.8498 - auc: 0.6428 - val_loss: 0.6628 - val_auc: 0.9295\n",
            "Epoch 2/10\n",
            "34/34 [==============================] - 3s 82ms/step - loss: 0.5878 - auc: 0.8970 - val_loss: 0.6243 - val_auc: 0.9447\n",
            "Epoch 3/10\n",
            "34/34 [==============================] - 3s 79ms/step - loss: 0.5010 - auc: 0.9233 - val_loss: 0.5753 - val_auc: 0.9688\n",
            "Epoch 4/10\n",
            "34/34 [==============================] - 3s 82ms/step - loss: 0.4283 - auc: 0.9432 - val_loss: 0.3996 - val_auc: 0.9811\n",
            "Epoch 5/10\n",
            "34/34 [==============================] - 3s 98ms/step - loss: 0.3907 - auc: 0.9525 - val_loss: 0.3546 - val_auc: 0.9833\n",
            "Epoch 6/10\n",
            "34/34 [==============================] - 4s 103ms/step - loss: 0.3712 - auc: 0.9509 - val_loss: 0.3586 - val_auc: 0.9858\n",
            "Epoch 7/10\n",
            "34/34 [==============================] - 3s 79ms/step - loss: 0.3558 - auc: 0.9436 - val_loss: 0.3117 - val_auc: 0.9833\n",
            "Epoch 8/10\n",
            "34/34 [==============================] - 3s 79ms/step - loss: 0.3641 - auc: 0.9324 - val_loss: 0.3233 - val_auc: 0.9840\n",
            "Epoch 9/10\n",
            "34/34 [==============================] - 3s 80ms/step - loss: 0.3165 - auc: 0.9561 - val_loss: 0.3533 - val_auc: 0.9841\n",
            "Epoch 10/10\n",
            "34/34 [==============================] - 4s 105ms/step - loss: 0.3043 - auc: 0.9537 - val_loss: 0.3391 - val_auc: 0.9546\n"
          ]
        },
        {
          "output_type": "execute_result",
          "data": {
            "text/plain": [
              "<keras.src.callbacks.History at 0x7bfeddd9f550>"
            ]
          },
          "metadata": {},
          "execution_count": 51
        }
      ]
    },
    {
      "cell_type": "markdown",
      "source": [
        "El modelo alcanzó una pérdida de aproximadamente 0.3065 y un área bajo la curva (AUC) de alrededor de 0.9785 en los datos de validación. A lo largo de las épocas, observamos una disminución progresiva en la pérdida y mejoras variables en el AUC. Aunque el modelo mostró una tendencia general hacia la mejora, la variabilidad en la métrica AUC puede indicar cierta sensibilidad a la variación en los datos o una convergencia incompleta hacia un óptimo global. Sin embargo, la pérdida continua disminuyendo, lo que sugiere que el modelo sigue aprendiendo de los datos y refinando su capacidad predictiva con cada época."
      ],
      "metadata": {
        "id": "ITN3dFvvFsjz"
      }
    },
    {
      "cell_type": "code",
      "source": [
        "############# Disminuir el numero de neuronas a la mitad\n",
        "\n",
        "reg_strength = 0.001\n",
        "\n",
        "###########Estrategias a usar: regilarization usar una a la vez para ver impacto\n",
        "dropout_rate = 0.3 ## porcentaje de neuronas que utiliza\n",
        "\n",
        "fc_model4=tf.keras.models.Sequential([\n",
        "    tf.keras.layers.Flatten(input_shape=x_train.shape[1:]),\n",
        "    tf.keras.layers.Dense(64, activation='relu', kernel_regularizer=tf.keras.regularizers.l2(reg_strength)),\n",
        "    tf.keras.layers.Dropout(dropout_rate),\n",
        "    tf.keras.layers.Dense(32, activation='relu', kernel_regularizer=tf.keras.regularizers.l2(reg_strength)),\n",
        "    tf.keras.layers.Dropout(dropout_rate),\n",
        "    tf.keras.layers.Dense(1, activation='sigmoid')\n",
        "])\n",
        "##### configura el optimizador y la función para optimizar ##############\n",
        "\n",
        "\n",
        "\n",
        "fc_model4.compile(optimizer='adam', loss='binary_crossentropy', metrics=['AUC'])"
      ],
      "metadata": {
        "id": "VjGHHg8eoC5W"
      },
      "execution_count": 52,
      "outputs": []
    },
    {
      "cell_type": "code",
      "source": [
        "#####Entrenar el modelo usando el optimizador y arquitectura definidas #########\n",
        "fc_model4.fit(x_train, y_train, batch_size=100, epochs=10, validation_data=(x_test, y_test))"
      ],
      "metadata": {
        "id": "ekAnVnwSoNsl",
        "outputId": "9e8e93bf-df13-46a0-bb7a-f5db8bdc0122",
        "colab": {
          "base_uri": "https://localhost:8080/"
        }
      },
      "execution_count": 53,
      "outputs": [
        {
          "output_type": "stream",
          "name": "stdout",
          "text": [
            "Epoch 1/10\n",
            "34/34 [==============================] - 3s 56ms/step - loss: 1.4569 - auc: 0.6398 - val_loss: 0.4576 - val_auc: 0.9617\n",
            "Epoch 2/10\n",
            "34/34 [==============================] - 2s 45ms/step - loss: 0.4387 - auc: 0.9018 - val_loss: 0.3602 - val_auc: 0.9704\n",
            "Epoch 3/10\n",
            "34/34 [==============================] - 1s 44ms/step - loss: 0.3874 - auc: 0.9305 - val_loss: 0.3150 - val_auc: 0.9779\n",
            "Epoch 4/10\n",
            "34/34 [==============================] - 2s 50ms/step - loss: 0.3611 - auc: 0.9324 - val_loss: 0.2660 - val_auc: 0.9826\n",
            "Epoch 5/10\n",
            "34/34 [==============================] - 2s 44ms/step - loss: 0.3589 - auc: 0.9236 - val_loss: 0.3023 - val_auc: 0.9829\n",
            "Epoch 6/10\n",
            "34/34 [==============================] - 2s 52ms/step - loss: 0.3343 - auc: 0.9363 - val_loss: 0.2914 - val_auc: 0.9841\n",
            "Epoch 7/10\n",
            "34/34 [==============================] - 2s 72ms/step - loss: 0.3075 - auc: 0.9449 - val_loss: 0.2775 - val_auc: 0.9841\n",
            "Epoch 8/10\n",
            "34/34 [==============================] - 2s 53ms/step - loss: 0.2797 - auc: 0.9545 - val_loss: 0.3193 - val_auc: 0.9819\n",
            "Epoch 9/10\n",
            "34/34 [==============================] - 2s 45ms/step - loss: 0.2820 - auc: 0.9458 - val_loss: 0.2397 - val_auc: 0.9743\n",
            "Epoch 10/10\n",
            "34/34 [==============================] - 1s 44ms/step - loss: 0.2914 - auc: 0.9378 - val_loss: 0.3291 - val_auc: 0.9783\n"
          ]
        },
        {
          "output_type": "execute_result",
          "data": {
            "text/plain": [
              "<keras.src.callbacks.History at 0x7bfeddba95a0>"
            ]
          },
          "metadata": {},
          "execution_count": 53
        }
      ]
    },
    {
      "cell_type": "markdown",
      "source": [
        "\n",
        "El modelo muestra una mejora progresiva en el rendimiento a lo largo del entrenamiento. La pérdida disminuye de forma constante, indicando una mejor adaptación a los datos de entrenamiento. Además, el AUC aumenta significativamente desde aproximadamente 0.6398 hasta 0.9378, lo que sugiere una mejor capacidad de discriminación entre las clases. El modelo parece que generaliza bien a datos que no ha visto y no parece tener sobreajuste."
      ],
      "metadata": {
        "id": "U1uGjiPxHGbL"
      }
    },
    {
      "cell_type": "code",
      "source": [
        "reg_strength = 0.001\n",
        "\n",
        "###########Estrategias a usar: regilarization usar una a la vez para ver impacto\n",
        "dropout_rate = 0.2 ## porcentaje de neuronas que utiliza\n",
        "\n",
        "fc_model5=tf.keras.models.Sequential([\n",
        "    tf.keras.layers.Flatten(input_shape=x_train.shape[1:]),\n",
        "    tf.keras.layers.Dense(64, activation='relu', kernel_regularizer=tf.keras.regularizers.l2(reg_strength)),\n",
        "    tf.keras.layers.Dropout(dropout_rate),\n",
        "    tf.keras.layers.Dense(64, activation='relu', kernel_regularizer=tf.keras.regularizers.l2(reg_strength)),\n",
        "    tf.keras.layers.Dropout(dropout_rate),\n",
        "    tf.keras.layers.Dense(32, activation='relu', kernel_regularizer=tf.keras.regularizers.l2(reg_strength)),\n",
        "    tf.keras.layers.Dropout(dropout_rate),\n",
        "    tf.keras.layers.Dense(1, activation='sigmoid')\n",
        "])\n",
        "##### configura el optimizador y la función para optimizar ##############\n",
        "\n",
        "\n",
        "\n",
        "fc_model5.compile(optimizer='adam', loss='binary_crossentropy', metrics=['AUC'])"
      ],
      "metadata": {
        "id": "tlgWHuxXofh8"
      },
      "execution_count": 54,
      "outputs": []
    },
    {
      "cell_type": "code",
      "source": [
        "#####Entrenar el modelo usando el optimizador y arquitectura definidas #########\n",
        "fc_model5.fit(x_train, y_train, batch_size=100, epochs=10, validation_data=(x_test, y_test))"
      ],
      "metadata": {
        "id": "OPcLo0_QojXU",
        "outputId": "55711089-552a-403a-c6e0-5f5f3e3878b9",
        "colab": {
          "base_uri": "https://localhost:8080/"
        }
      },
      "execution_count": 55,
      "outputs": [
        {
          "output_type": "stream",
          "name": "stdout",
          "text": [
            "Epoch 1/10\n",
            "34/34 [==============================] - 4s 90ms/step - loss: 0.9424 - auc: 0.6236 - val_loss: 0.5125 - val_auc: 0.9607\n",
            "Epoch 2/10\n",
            "34/34 [==============================] - 3s 80ms/step - loss: 0.4971 - auc: 0.8829 - val_loss: 0.4404 - val_auc: 0.9704\n",
            "Epoch 3/10\n",
            "34/34 [==============================] - 3s 83ms/step - loss: 0.4409 - auc: 0.9108 - val_loss: 0.4661 - val_auc: 0.9755\n",
            "Epoch 4/10\n",
            "34/34 [==============================] - 3s 100ms/step - loss: 0.3958 - auc: 0.9280 - val_loss: 0.3250 - val_auc: 0.9804\n",
            "Epoch 5/10\n",
            "34/34 [==============================] - 4s 113ms/step - loss: 0.3630 - auc: 0.9357 - val_loss: 0.3138 - val_auc: 0.9841\n",
            "Epoch 6/10\n",
            "34/34 [==============================] - 3s 94ms/step - loss: 0.3326 - auc: 0.9413 - val_loss: 0.3508 - val_auc: 0.9829\n",
            "Epoch 7/10\n",
            "34/34 [==============================] - 3s 87ms/step - loss: 0.3147 - auc: 0.9456 - val_loss: 0.3891 - val_auc: 0.9802\n",
            "Epoch 8/10\n",
            "34/34 [==============================] - 3s 96ms/step - loss: 0.3118 - auc: 0.9388 - val_loss: 0.2444 - val_auc: 0.9842\n",
            "Epoch 9/10\n",
            "34/34 [==============================] - 2s 71ms/step - loss: 0.3057 - auc: 0.9379 - val_loss: 0.3154 - val_auc: 0.9833\n",
            "Epoch 10/10\n",
            "34/34 [==============================] - 2s 63ms/step - loss: 0.2958 - auc: 0.9400 - val_loss: 0.3791 - val_auc: 0.9820\n"
          ]
        },
        {
          "output_type": "execute_result",
          "data": {
            "text/plain": [
              "<keras.src.callbacks.History at 0x7bfeddb5bdf0>"
            ]
          },
          "metadata": {},
          "execution_count": 55
        }
      ]
    },
    {
      "cell_type": "markdown",
      "source": [
        "\n",
        "El modelo muestra una mejora progresiva en el rendimiento durante el entrenamiento. Inicialmente, el valor de pérdida es alto aproximadamente de 0.9424, pero disminuye gradualmente, lo que indisca un mejor rendimiento del modelo. Por otro lado, el AUC comienza en 0.6236 y mejora llegando a 0.9400 en el último epoch. En cuanto a las métricas de validación, la pérdida de validación sigue una tendencia decreciente, mientras que el AUC de validación se mantiene alto, cerca de 0.98, lo que indica que el modelo generaliza bien a datos no vistos. Estos resultados indican que el modelo está aprendiendo bien los datos, aunque podría tener ajustes adicionales para mejorar su rendimiento final."
      ],
      "metadata": {
        "id": "M1xB5teaIYvu"
      }
    },
    {
      "cell_type": "code",
      "source": [
        "reg_strength = 0.001\n",
        "\n",
        "###########Estrategias a usar: regilarization usar una a la vez para ver impacto\n",
        "dropout_rate = 0.35 ## porcentaje de neuronas que utiliza\n",
        "\n",
        "fc_model=tf.keras.models.Sequential([\n",
        "    tf.keras.layers.Flatten(input_shape=x_train.shape[1:]),\n",
        "    tf.keras.layers.Dense(128, activation='relu', kernel_regularizer=tf.keras.regularizers.l2(reg_strength)),\n",
        "    tf.keras.layers.Dropout(dropout_rate),\n",
        "    tf.keras.layers.Dense(64, activation='relu', kernel_regularizer=tf.keras.regularizers.l2(reg_strength)),\n",
        "    tf.keras.layers.Dropout(dropout_rate),\n",
        "    tf.keras.layers.Dense(1, activation='sigmoid')\n",
        "])\n",
        "##### configura el optimizador y la función para optimizar ##############\n",
        "\n",
        "\n",
        "\n",
        "fc_model.compile(optimizer='adam', loss='binary_crossentropy', metrics=['AUC'])\n"
      ],
      "metadata": {
        "id": "5zyrD-NdosXu"
      },
      "execution_count": 56,
      "outputs": []
    },
    {
      "cell_type": "code",
      "source": [
        "#####Entrenar el modelo usando el optimizador y arquitectura definidas #########\n",
        "fc_model.fit(x_train, y_train, batch_size=100, epochs=10, validation_data=(x_test, y_test))"
      ],
      "metadata": {
        "id": "2QFdsuhPovqT",
        "outputId": "89c715c7-12d2-4958-d6de-eaf72df26928",
        "colab": {
          "base_uri": "https://localhost:8080/"
        }
      },
      "execution_count": 57,
      "outputs": [
        {
          "output_type": "stream",
          "name": "stdout",
          "text": [
            "Epoch 1/10\n",
            "34/34 [==============================] - 5s 107ms/step - loss: 2.3135 - auc: 0.6439 - val_loss: 0.7276 - val_auc: 0.9293\n",
            "Epoch 2/10\n",
            "34/34 [==============================] - 3s 77ms/step - loss: 0.6674 - auc: 0.8819 - val_loss: 0.5922 - val_auc: 0.9590\n",
            "Epoch 3/10\n",
            "34/34 [==============================] - 3s 99ms/step - loss: 0.5382 - auc: 0.9235 - val_loss: 0.5071 - val_auc: 0.9556\n",
            "Epoch 4/10\n",
            "34/34 [==============================] - 6s 189ms/step - loss: 0.4994 - auc: 0.9341 - val_loss: 0.4604 - val_auc: 0.9713\n",
            "Epoch 5/10\n",
            "34/34 [==============================] - 5s 134ms/step - loss: 0.4508 - auc: 0.9451 - val_loss: 0.4218 - val_auc: 0.9779\n",
            "Epoch 6/10\n",
            "34/34 [==============================] - 4s 131ms/step - loss: 0.4466 - auc: 0.9349 - val_loss: 0.4225 - val_auc: 0.9740\n",
            "Epoch 7/10\n",
            "34/34 [==============================] - 4s 104ms/step - loss: 0.4027 - auc: 0.9470 - val_loss: 0.5383 - val_auc: 0.9763\n",
            "Epoch 8/10\n",
            "34/34 [==============================] - 3s 92ms/step - loss: 0.4207 - auc: 0.9363 - val_loss: 0.3943 - val_auc: 0.9806\n",
            "Epoch 9/10\n",
            "34/34 [==============================] - 3s 82ms/step - loss: 0.4025 - auc: 0.9385 - val_loss: 0.3770 - val_auc: 0.9809\n",
            "Epoch 10/10\n",
            "34/34 [==============================] - 3s 83ms/step - loss: 0.3802 - auc: 0.9304 - val_loss: 0.3351 - val_auc: 0.9793\n"
          ]
        },
        {
          "output_type": "execute_result",
          "data": {
            "text/plain": [
              "<keras.src.callbacks.History at 0x7bfee5cc1f30>"
            ]
          },
          "metadata": {},
          "execution_count": 57
        }
      ]
    },
    {
      "cell_type": "markdown",
      "source": [
        "Al inicio el valor de pérdida es bastante alto aproximadamente 2.31, lo que indica que el modelo necesita ajustes significativos. Sin embargo, la pérdida disminuye en los epochs posteriores, llegando a un valor de 0.3802. Esto indica que el modelo está mejorando su capacidad para hacer predicciones sobre los datos de entrenamiento. El AUC, comienza en 0.6439 y mejora llegando a 0.9304 en el último epoch. Esta mejora indica que el modelo está mejorando su capacidad de hacer predicciones.\n"
      ],
      "metadata": {
        "id": "ISySzG3vJa-B"
      }
    }
  ]
}