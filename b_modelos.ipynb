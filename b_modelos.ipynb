{
  "nbformat": 4,
  "nbformat_minor": 0,
  "metadata": {
    "colab": {
      "provenance": [],
      "include_colab_link": true
    },
    "kernelspec": {
      "name": "python3",
      "display_name": "Python 3"
    },
    "language_info": {
      "name": "python"
    }
  },
  "cells": [
    {
      "cell_type": "markdown",
      "metadata": {
        "id": "view-in-github",
        "colab_type": "text"
      },
      "source": [
        "<a href=\"https://colab.research.google.com/github/AleAguirreM/LEA3_Health/blob/main/b_modelos.ipynb\" target=\"_parent\"><img src=\"https://colab.research.google.com/assets/colab-badge.svg\" alt=\"Open In Colab\"/></a>"
      ]
    },
    {
      "cell_type": "code",
      "source": [
        "from google.colab import drive\n",
        "drive.mount('/content/drive')"
      ],
      "metadata": {
        "colab": {
          "base_uri": "https://localhost:8080/"
        },
        "id": "EphtiL-V0hy2",
        "outputId": "fa5d4ec3-fa0f-4eaa-f972-372163ba00b8"
      },
      "execution_count": 1,
      "outputs": [
        {
          "output_type": "stream",
          "name": "stdout",
          "text": [
            "Mounted at /content/drive\n"
          ]
        }
      ]
    },
    {
      "cell_type": "code",
      "execution_count": 2,
      "metadata": {
        "id": "D0n_Fnjnz8PT"
      },
      "outputs": [],
      "source": [
        "import numpy as np\n",
        "import joblib ### para cargar array\n",
        "########Paquetes para NN #########\n",
        "import tensorflow as tf\n",
        "from sklearn import metrics ### para analizar modelo\n",
        "from sklearn.ensemble import RandomForestClassifier  ### para analizar modelo\n",
        "import pandas as pd\n",
        "from sklearn import tree\n",
        "import cv2 ### para leer imagenes jpeg\n",
        "from matplotlib import pyplot as plt #"
      ]
    },
    {
      "cell_type": "code",
      "source": [
        "### cargar bases_procesadas ####\n",
        "x_train = joblib.load('/content/drive/MyDrive/TB_Chest_Radiography_Database/salidas/x_train.pkl')\n",
        "y_train = joblib.load('/content/drive/MyDrive/TB_Chest_Radiography_Database/salidas/y_train.pkl')\n",
        "x_test = joblib.load('/content/drive/MyDrive/TB_Chest_Radiography_Database/salidas/x_test.pkl')\n",
        "y_test = joblib.load('/content/drive/MyDrive/TB_Chest_Radiography_Database/salidas/y_test.pkl')"
      ],
      "metadata": {
        "id": "KgxSXwb30DrX"
      },
      "execution_count": 3,
      "outputs": []
    },
    {
      "cell_type": "code",
      "source": [
        "x_train.max()"
      ],
      "metadata": {
        "id": "OPyKmjuEJ6xK",
        "outputId": "127ff0ae-d193-46df-abeb-bea7a054dc22",
        "colab": {
          "base_uri": "https://localhost:8080/"
        }
      },
      "execution_count": 4,
      "outputs": [
        {
          "output_type": "execute_result",
          "data": {
            "text/plain": [
              "255"
            ]
          },
          "metadata": {},
          "execution_count": 4
        }
      ]
    },
    {
      "cell_type": "code",
      "source": [
        "x_test.max()"
      ],
      "metadata": {
        "id": "WPs-lRm7KChF",
        "outputId": "8bb71a4f-59f9-42d1-e121-c2e5014628fe",
        "colab": {
          "base_uri": "https://localhost:8080/"
        }
      },
      "execution_count": 5,
      "outputs": [
        {
          "output_type": "execute_result",
          "data": {
            "text/plain": [
              "255"
            ]
          },
          "metadata": {},
          "execution_count": 5
        }
      ]
    },
    {
      "cell_type": "code",
      "source": [
        "#### Escalar ######################\n",
        "x_train = x_train.astype('float32') ## para poder escalarlo\n",
        "x_test = x_test.astype('float32') ## para poder escalarlo\n",
        "x_train /= 255 ### escalaro para que quede entre 0 y 1\n",
        "x_test /= 255\n",
        "\n",
        "###### verificar tamaños\n",
        "print(x_train.shape)\n",
        "x_test.shape"
      ],
      "metadata": {
        "colab": {
          "base_uri": "https://localhost:8080/"
        },
        "id": "E24SvmNi1FGi",
        "outputId": "9654167e-abba-4186-ddf2-a66daca5a17d"
      },
      "execution_count": 6,
      "outputs": [
        {
          "output_type": "stream",
          "name": "stdout",
          "text": [
            "(3360, 100, 100, 3)\n"
          ]
        },
        {
          "output_type": "execute_result",
          "data": {
            "text/plain": [
              "(840, 100, 100, 3)"
            ]
          },
          "metadata": {},
          "execution_count": 6
        }
      ]
    },
    {
      "cell_type": "code",
      "source": [
        "np.product(x_train[1].shape) ## cantidad de variables por imagen"
      ],
      "metadata": {
        "colab": {
          "base_uri": "https://localhost:8080/"
        },
        "id": "Pq_IX90-2PAO",
        "outputId": "9cf53e1d-2904-4cd6-f075-365ecd500c96"
      },
      "execution_count": 7,
      "outputs": [
        {
          "output_type": "execute_result",
          "data": {
            "text/plain": [
              "30000"
            ]
          },
          "metadata": {},
          "execution_count": 7
        }
      ]
    },
    {
      "cell_type": "code",
      "source": [
        "np.unique(y_train, return_counts=True)"
      ],
      "metadata": {
        "id": "piHwmAixKcOD",
        "outputId": "ca5c7ffd-7169-4c26-a838-44154e0a5172",
        "colab": {
          "base_uri": "https://localhost:8080/"
        }
      },
      "execution_count": 8,
      "outputs": [
        {
          "output_type": "execute_result",
          "data": {
            "text/plain": [
              "(array([0, 1]), array([2800,  560]))"
            ]
          },
          "metadata": {},
          "execution_count": 8
        }
      ]
    },
    {
      "cell_type": "code",
      "source": [
        "np.unique(y_test, return_counts=True)"
      ],
      "metadata": {
        "id": "sEjG-jPDKhWi",
        "outputId": "4ff3bb25-eb2b-46bf-c440-4f8d2afb2ff1",
        "colab": {
          "base_uri": "https://localhost:8080/"
        }
      },
      "execution_count": 9,
      "outputs": [
        {
          "output_type": "execute_result",
          "data": {
            "text/plain": [
              "(array([0, 1]), array([700, 140]))"
            ]
          },
          "metadata": {},
          "execution_count": 9
        }
      ]
    },
    {
      "cell_type": "code",
      "source": [
        "##### convertir a 1 d array ############\n",
        "x_train2 = x_train.reshape(3360,30000)\n",
        "x_test2 = x_test.reshape(840, 30000)\n",
        "print(x_train2.shape)\n",
        "x_test2.shape"
      ],
      "metadata": {
        "colab": {
          "base_uri": "https://localhost:8080/"
        },
        "id": "7d7h8kXC1tZr",
        "outputId": "56d32855-3f79-48b8-e56b-4c2a59ee50a6"
      },
      "execution_count": 10,
      "outputs": [
        {
          "output_type": "stream",
          "name": "stdout",
          "text": [
            "(3360, 30000)\n"
          ]
        },
        {
          "output_type": "execute_result",
          "data": {
            "text/plain": [
              "(840, 30000)"
            ]
          },
          "metadata": {},
          "execution_count": 10
        }
      ]
    },
    {
      "cell_type": "markdown",
      "source": [
        "## Selección de indicador\n",
        "\n",
        "El equilibrio entre identificar correctamente a los pacientes con neumonía y evitar que se escapen casos positivos es crucial para la eficacia de un modelo de diagnóstico. Si un modelo clasifica incorrectamente a muchos pacientes como negativos cuando en realidad tienen neumonía (falsos negativos), podría resultar en un tratamiento inadecuado o en la falta de tratamiento para esos pacientes, lo que puede tener consecuencias graves para su salud y aumentar los costos a largo plazo. Por otro lado, si el modelo clasifica incorrectamente a muchos pacientes como positivos cuando no tienen neumonía (falsos positivos), esto podría generar gastos innecesarios en pruebas adicionales o tratamientos, así como una carga adicional para el sistema de salud.\n",
        "\n",
        "El AUC, al evaluar la capacidad del modelo para distinguir entre pacientes con neumonía y aquellos sin ella, ayuda a encontrar un equilibrio entre estos dos escenarios. Un AUC más alto indica que el modelo es mejor para discriminar entre casos positivos y negativos, lo que sugiere que se están minimizando tanto los falsos positivos como los falsos negativos. En otras palabras, un AUC alto indica que el modelo está clasificando correctamente a la mayoría de los pacientes con neumonía como positivos y a la mayoría de los pacientes sin neumonía como negativos, lo que reduce tanto los costos como los riesgos asociados con un diagnóstico incorrecto.\n"
      ],
      "metadata": {
        "id": "zST9iVZpK1uY"
      }
    },
    {
      "cell_type": "code",
      "source": [
        "############################################################\n",
        "################ Probar modelos de redes neuronales #########\n",
        "############################################################\n",
        "\n",
        "fc_model=tf.keras.models.Sequential([\n",
        "    tf.keras.layers.Flatten(input_shape=x_train.shape[1:]),\n",
        "    tf.keras.layers.Dense(128, activation='relu'),\n",
        "    tf.keras.layers.Dense(64, activation='relu'),\n",
        "    tf.keras.layers.Dense(1, activation='sigmoid')\n",
        "])"
      ],
      "metadata": {
        "id": "ZGPhcpG12u3O"
      },
      "execution_count": 11,
      "outputs": []
    },
    {
      "cell_type": "code",
      "source": [
        "##### configura el optimizador y la función para optimizar ##############\n",
        "fc_model.compile(optimizer='adam', loss='binary_crossentropy', metrics=['accuracy','AUC', 'Recall', 'Precision'])\n",
        "\n",
        "#####Entrenar el modelo usando el optimizador y arquitectura definidas #########\n",
        "fc_model.fit(x_train, y_train, batch_size=100, epochs=10, validation_data=(x_test, y_test))\n",
        "\n",
        "#########Evaluar el modelo ####################\n",
        "test_loss, test_acc, test_auc, test_recall, test_precision = fc_model.evaluate(x_test, y_test, verbose=2)\n",
        "print(\"Test auc:\", test_auc)"
      ],
      "metadata": {
        "id": "2rEYrh70mtlQ",
        "outputId": "3292e791-d10c-40c3-dc45-fc594f228ac2",
        "colab": {
          "base_uri": "https://localhost:8080/"
        }
      },
      "execution_count": 14,
      "outputs": [
        {
          "output_type": "stream",
          "name": "stdout",
          "text": [
            "Epoch 1/10\n",
            "34/34 [==============================] - 5s 100ms/step - loss: 0.7389 - accuracy: 0.8598 - auc: 0.8053 - recall: 0.5107 - precision: 0.5921 - val_loss: 0.1587 - val_accuracy: 0.9226 - val_auc: 0.9824 - val_recall: 0.5857 - val_precision: 0.9213\n",
            "Epoch 2/10\n",
            "34/34 [==============================] - 3s 96ms/step - loss: 0.1114 - accuracy: 0.9595 - auc: 0.9832 - recall: 0.8429 - precision: 0.9077 - val_loss: 0.2065 - val_accuracy: 0.8833 - val_auc: 0.9828 - val_recall: 0.3429 - val_precision: 0.8889\n",
            "Epoch 3/10\n",
            "34/34 [==============================] - 4s 116ms/step - loss: 0.0976 - accuracy: 0.9634 - auc: 0.9891 - recall: 0.8446 - precision: 0.9293 - val_loss: 0.1924 - val_accuracy: 0.8929 - val_auc: 0.9863 - val_recall: 0.3714 - val_precision: 0.9630\n",
            "Epoch 4/10\n",
            "34/34 [==============================] - 4s 118ms/step - loss: 0.0847 - accuracy: 0.9723 - auc: 0.9908 - recall: 0.8732 - precision: 0.9569 - val_loss: 0.1611 - val_accuracy: 0.9131 - val_auc: 0.9901 - val_recall: 0.5000 - val_precision: 0.9589\n",
            "Epoch 5/10\n",
            "34/34 [==============================] - 3s 77ms/step - loss: 0.0800 - accuracy: 0.9726 - auc: 0.9910 - recall: 0.8839 - precision: 0.9483 - val_loss: 0.2124 - val_accuracy: 0.8798 - val_auc: 0.9905 - val_recall: 0.2857 - val_precision: 0.9756\n",
            "Epoch 6/10\n",
            "34/34 [==============================] - 3s 82ms/step - loss: 0.0812 - accuracy: 0.9729 - auc: 0.9909 - recall: 0.8804 - precision: 0.9536 - val_loss: 0.2124 - val_accuracy: 0.8833 - val_auc: 0.9911 - val_recall: 0.3071 - val_precision: 0.9773\n",
            "Epoch 7/10\n",
            "34/34 [==============================] - 3s 80ms/step - loss: 0.0833 - accuracy: 0.9744 - auc: 0.9880 - recall: 0.8946 - precision: 0.9489 - val_loss: 0.1955 - val_accuracy: 0.8952 - val_auc: 0.9909 - val_recall: 0.3786 - val_precision: 0.9815\n",
            "Epoch 8/10\n",
            "34/34 [==============================] - 3s 97ms/step - loss: 0.0652 - accuracy: 0.9792 - auc: 0.9937 - recall: 0.9054 - precision: 0.9676 - val_loss: 0.1083 - val_accuracy: 0.9560 - val_auc: 0.9929 - val_recall: 0.7714 - val_precision: 0.9558\n",
            "Epoch 9/10\n",
            "34/34 [==============================] - 4s 106ms/step - loss: 0.0711 - accuracy: 0.9771 - auc: 0.9922 - recall: 0.8946 - precision: 0.9653 - val_loss: 0.1494 - val_accuracy: 0.9274 - val_auc: 0.9935 - val_recall: 0.5714 - val_precision: 0.9877\n",
            "Epoch 10/10\n",
            "34/34 [==============================] - 3s 78ms/step - loss: 0.0589 - accuracy: 0.9795 - auc: 0.9934 - recall: 0.9054 - precision: 0.9694 - val_loss: 0.1092 - val_accuracy: 0.9524 - val_auc: 0.9930 - val_recall: 0.7357 - val_precision: 0.9717\n",
            "27/27 - 0s - loss: 0.1092 - accuracy: 0.9524 - auc: 0.9930 - recall: 0.7357 - precision: 0.9717 - 262ms/epoch - 10ms/step\n",
            "Test auc: 0.9930459260940552\n"
          ]
        }
      ]
    },
    {
      "cell_type": "markdown",
      "source": [
        "Podemos observar que durante la última época del entrenamiento, el modelo alcanzó una pérdida de aproximadamente 0.1297 y una precisión de alrededor del 95.24% en los datos de validación. Además, el área bajo la curva (AUC) fue de aproximadamente 0.9891, mientras que el recall y la precisión para la clase positiva fueron del 75% y 95.45%, respectivamente. Estos valores brindan una visión detallada del rendimiento del modelo en la clasificación de las muestras, lo que permite evaluar su eficacia y capacidad predictiva con mayor precisión."
      ],
      "metadata": {
        "id": "0vgrrYPfFRNw"
      }
    },
    {
      "cell_type": "code",
      "source": [
        "###### matriz de confusión test\n",
        "pred_test=(fc_model.predict(x_test) > 0.80).astype('int')\n",
        "cm=metrics.confusion_matrix(y_test,pred_test, labels=[1,0])\n",
        "disp=metrics.ConfusionMatrixDisplay(cm,display_labels=['TB', 'Normal'])\n",
        "disp.plot()\n",
        "\n",
        "print(metrics.classification_report(y_test, pred_test))"
      ],
      "metadata": {
        "id": "s5IDdPj4nDr2",
        "outputId": "55cabbc1-67d9-478e-ca39-8294d146861a",
        "colab": {
          "base_uri": "https://localhost:8080/",
          "height": 629
        }
      },
      "execution_count": 21,
      "outputs": [
        {
          "output_type": "stream",
          "name": "stdout",
          "text": [
            "27/27 [==============================] - 1s 17ms/step\n",
            "              precision    recall  f1-score   support\n",
            "\n",
            "           0       0.90      1.00      0.94       700\n",
            "           1       1.00      0.41      0.59       140\n",
            "\n",
            "    accuracy                           0.90       840\n",
            "   macro avg       0.95      0.71      0.77       840\n",
            "weighted avg       0.91      0.90      0.88       840\n",
            "\n"
          ]
        },
        {
          "output_type": "display_data",
          "data": {
            "text/plain": [
              "<Figure size 640x480 with 2 Axes>"
            ],
            "image/png": "[encoded data removed]"
          },
          "metadata": {}
        }
      ]
    },
    {
      "cell_type": "markdown",
      "source": [
        "En este matriz se pueden observar que hay 102 positivos que tienen tuberculosis, 38 falsos positivos y 4 que son falsos negativos. Se puede concluir que hay 695 personas que no sufren de tuberculosis. Todo esto se identifica gracias a la matriz de confusión de evaluación."
      ],
      "metadata": {
        "id": "nSKNAzEkLdTX"
      }
    },
    {
      "cell_type": "code",
      "source": [
        "#################### exportar red ##############\n",
        "# guardar modelo\n",
        "fc_model.save('path_to_my_model.h5')"
      ],
      "metadata": {
        "id": "uMQ9fIscnJeX",
        "outputId": "caa5bb77-2147-4f1b-e6e9-f63c7d611085",
        "colab": {
          "base_uri": "https://localhost:8080/"
        }
      },
      "execution_count": null,
      "outputs": [
        {
          "output_type": "stream",
          "name": "stderr",
          "text": [
            "/usr/local/lib/python3.10/dist-packages/keras/src/engine/training.py:3103: UserWarning: You are saving your model as an HDF5 file via `model.save()`. This file format is considered legacy. We recommend using instead the native Keras format, e.g. `model.save('my_model.keras')`.\n",
            "  saving_api.save_model(\n"
          ]
        }
      ]
    },
    {
      "cell_type": "code",
      "source": [
        "#########################################################################################\n",
        "#########################################################################################\n",
        "###########Estrategias a usar: regilarization usar una a la vez para ver impacto\n",
        "#########################################################################################\n",
        "###############################################################\n",
        "\n",
        "dropout_rate = 0.3 ## porcentaje de neuronas que elimina\n",
        "\n",
        "fc_model2=tf.keras.models.Sequential([\n",
        "    tf.keras.layers.Flatten(input_shape=x_train.shape[1:]),\n",
        "    tf.keras.layers.Dense(128, activation='relu'),\n",
        "    tf.keras.layers.Dropout(dropout_rate),\n",
        "    tf.keras.layers.Dense(64, activation='relu'),\n",
        "    tf.keras.layers.Dropout(dropout_rate),\n",
        "    tf.keras.layers.Dense(1, activation='sigmoid')\n",
        "])\n",
        "##### configura el optimizador y la función para optimizar ##############\n",
        "\n",
        "\n",
        "fc_model2.compile(optimizer='adam', loss='binary_crossentropy', metrics=['AUC'])"
      ],
      "metadata": {
        "id": "cQhm42e5nXce"
      },
      "execution_count": null,
      "outputs": []
    },
    {
      "cell_type": "code",
      "source": [
        "#####Entrenar el modelo usando el optimizador y arquitectura definidas #########\n",
        "fc_model2.fit(x_train, y_train, batch_size=100, epochs=7, validation_data=(x_test, y_test))"
      ],
      "metadata": {
        "id": "HAl0Fn2dnfRH",
        "outputId": "e6a82978-11cd-497a-b00f-4381691d6aed",
        "colab": {
          "base_uri": "https://localhost:8080/"
        }
      },
      "execution_count": null,
      "outputs": [
        {
          "output_type": "stream",
          "name": "stdout",
          "text": [
            "Epoch 1/7\n",
            "34/34 [==============================] - 5s 117ms/step - loss: 1.3867 - auc: 0.6909 - val_loss: 0.2119 - val_auc: 0.9626\n",
            "Epoch 2/7\n",
            "34/34 [==============================] - 3s 75ms/step - loss: 0.2780 - auc: 0.9092 - val_loss: 0.2295 - val_auc: 0.9697\n",
            "Epoch 3/7\n",
            "34/34 [==============================] - 3s 76ms/step - loss: 0.2346 - auc: 0.9411 - val_loss: 0.2147 - val_auc: 0.9752\n",
            "Epoch 4/7\n",
            "34/34 [==============================] - 3s 75ms/step - loss: 0.2041 - auc: 0.9530 - val_loss: 0.2844 - val_auc: 0.9814\n",
            "Epoch 5/7\n",
            "34/34 [==============================] - 4s 105ms/step - loss: 0.1991 - auc: 0.9515 - val_loss: 0.4038 - val_auc: 0.9788\n",
            "Epoch 6/7\n",
            "34/34 [==============================] - 3s 97ms/step - loss: 0.2108 - auc: 0.9427 - val_loss: 0.1648 - val_auc: 0.9832\n",
            "Epoch 7/7\n",
            "34/34 [==============================] - 3s 74ms/step - loss: 0.1949 - auc: 0.9504 - val_loss: 0.1613 - val_auc: 0.9840\n"
          ]
        },
        {
          "output_type": "execute_result",
          "data": {
            "text/plain": [
              "<keras.src.callbacks.History at 0x782094a25120>"
            ]
          },
          "metadata": {},
          "execution_count": 15
        }
      ]
    },
    {
      "cell_type": "markdown",
      "source": [
        "El modelo logró una pérdida de alrededor de 0.1985 en los datos de validación, mientras que el área bajo la curva (AUC) fue de aproximadamente 0.9908. Durante el entrenamiento, observamos una mejora progresiva en la pérdida y el AUC en cada época, lo que indica que el modelo está aprendiendo de manera efectiva los patrones en los datos y mejorando su capacidad predictiva con cada iteración. Esto sugiere un rendimiento sólido y una buena capacidad del modelo para generalizar a datos no vistos."
      ],
      "metadata": {
        "id": "HehtoOSEFjX8"
      }
    },
    {
      "cell_type": "code",
      "source": [
        "####################### aplicar dos regularizaciones L2 y drop out\n",
        "###Penaliza el tamaño de los pesos, mientras más grande la penalización menores son los valores de los coeficientes\n",
        "\n",
        "reg_strength = 0.001\n",
        "###########Estrategias a usar: regilarization usar una a la vez para ver impacto\n",
        "dropout_rate = 0.3 ## porcentaje de neuronas que utiliza\n",
        "\n",
        "fc_model3=tf.keras.models.Sequential([\n",
        "    tf.keras.layers.Flatten(input_shape=x_train.shape[1:]),\n",
        "    tf.keras.layers.Dense(128, activation='relu', kernel_regularizer=tf.keras.regularizers.l2(reg_strength)),\n",
        "    tf.keras.layers.Dropout(dropout_rate),\n",
        "    tf.keras.layers.Dense(64, activation='relu', kernel_regularizer=tf.keras.regularizers.l2(reg_strength)),\n",
        "    tf.keras.layers.Dropout(dropout_rate),\n",
        "    tf.keras.layers.Dense(1, activation='sigmoid')\n",
        "])\n",
        "##### configura el optimizador y la función para optimizar ##############\n",
        "fc_model3.compile(optimizer='adam', loss='binary_crossentropy', metrics=['AUC'])"
      ],
      "metadata": {
        "id": "xkSufds5nqE2"
      },
      "execution_count": null,
      "outputs": []
    },
    {
      "cell_type": "code",
      "source": [
        "#####Entrenar el modelo usando el optimizador y arquitectura definidas #########\n",
        "fc_model3.fit(x_train, y_train, batch_size=100, epochs=10, validation_data=(x_test, y_test))"
      ],
      "metadata": {
        "id": "8vr18sANn0SO",
        "outputId": "bb1af1dd-ac2f-45d2-adbc-5d653dd7607b",
        "colab": {
          "base_uri": "https://localhost:8080/"
        }
      },
      "execution_count": null,
      "outputs": [
        {
          "output_type": "stream",
          "name": "stdout",
          "text": [
            "Epoch 1/10\n",
            "34/34 [==============================] - 4s 93ms/step - loss: 1.7359 - auc: 0.7021 - val_loss: 0.5493 - val_auc: 0.9501\n",
            "Epoch 2/10\n",
            "34/34 [==============================] - 3s 87ms/step - loss: 0.5389 - auc: 0.9292 - val_loss: 0.4901 - val_auc: 0.9635\n",
            "Epoch 3/10\n",
            "34/34 [==============================] - 3s 84ms/step - loss: 0.4794 - auc: 0.9433 - val_loss: 0.4364 - val_auc: 0.9740\n",
            "Epoch 4/10\n",
            "34/34 [==============================] - 4s 120ms/step - loss: 0.4027 - auc: 0.9581 - val_loss: 0.4201 - val_auc: 0.9814\n",
            "Epoch 5/10\n",
            "34/34 [==============================] - 3s 94ms/step - loss: 0.3821 - auc: 0.9500 - val_loss: 0.3453 - val_auc: 0.9856\n",
            "Epoch 6/10\n",
            "34/34 [==============================] - 3s 82ms/step - loss: 0.3996 - auc: 0.9307 - val_loss: 0.3374 - val_auc: 0.9822\n",
            "Epoch 7/10\n",
            "34/34 [==============================] - 3s 86ms/step - loss: 0.3540 - auc: 0.9405 - val_loss: 0.2957 - val_auc: 0.9817\n",
            "Epoch 8/10\n",
            "34/34 [==============================] - 3s 97ms/step - loss: 0.3561 - auc: 0.9290 - val_loss: 0.3267 - val_auc: 0.9802\n",
            "Epoch 9/10\n",
            "34/34 [==============================] - 4s 115ms/step - loss: 0.3577 - auc: 0.9205 - val_loss: 0.3506 - val_auc: 0.9823\n",
            "Epoch 10/10\n",
            "34/34 [==============================] - 3s 83ms/step - loss: 0.3094 - auc: 0.9389 - val_loss: 0.2975 - val_auc: 0.9783\n"
          ]
        },
        {
          "output_type": "execute_result",
          "data": {
            "text/plain": [
              "<keras.src.callbacks.History at 0x7820991fab30>"
            ]
          },
          "metadata": {},
          "execution_count": 17
        }
      ]
    },
    {
      "cell_type": "markdown",
      "source": [
        "El modelo alcanzó una pérdida de aproximadamente 0.3065 y un área bajo la curva (AUC) de alrededor de 0.9785 en los datos de validación. A lo largo de las épocas, observamos una disminución progresiva en la pérdida y mejoras variables en el AUC. Aunque el modelo mostró una tendencia general hacia la mejora, la variabilidad en la métrica AUC puede indicar cierta sensibilidad a la variación en los datos o una convergencia incompleta hacia un óptimo global. Sin embargo, la pérdida continua disminuyendo, lo que sugiere que el modelo sigue aprendiendo de los datos y refinando su capacidad predictiva con cada época."
      ],
      "metadata": {
        "id": "ITN3dFvvFsjz"
      }
    },
    {
      "cell_type": "code",
      "source": [
        "############# Disminuir el numero de neuronas a la mitad\n",
        "\n",
        "reg_strength = 0.001\n",
        "\n",
        "###########Estrategias a usar: regilarization usar una a la vez para ver impacto\n",
        "dropout_rate = 0.3 ## porcentaje de neuronas que utiliza\n",
        "\n",
        "fc_model4=tf.keras.models.Sequential([\n",
        "    tf.keras.layers.Flatten(input_shape=x_train.shape[1:]),\n",
        "    tf.keras.layers.Dense(64, activation='relu', kernel_regularizer=tf.keras.regularizers.l2(reg_strength)),\n",
        "    tf.keras.layers.Dropout(dropout_rate),\n",
        "    tf.keras.layers.Dense(32, activation='relu', kernel_regularizer=tf.keras.regularizers.l2(reg_strength)),\n",
        "    tf.keras.layers.Dropout(dropout_rate),\n",
        "    tf.keras.layers.Dense(1, activation='sigmoid')\n",
        "])\n",
        "##### configura el optimizador y la función para optimizar ##############\n",
        "\n",
        "\n",
        "\n",
        "fc_model4.compile(optimizer='adam', loss='binary_crossentropy', metrics=['AUC'])"
      ],
      "metadata": {
        "id": "VjGHHg8eoC5W"
      },
      "execution_count": null,
      "outputs": []
    },
    {
      "cell_type": "code",
      "source": [
        "#####Entrenar el modelo usando el optimizador y arquitectura definidas #########\n",
        "fc_model4.fit(x_train, y_train, batch_size=100, epochs=10, validation_data=(x_test, y_test))"
      ],
      "metadata": {
        "id": "ekAnVnwSoNsl",
        "outputId": "91715795-08a4-4c76-ffad-fca589ca6b18",
        "colab": {
          "base_uri": "https://localhost:8080/"
        }
      },
      "execution_count": null,
      "outputs": [
        {
          "output_type": "stream",
          "name": "stdout",
          "text": [
            "Epoch 1/10\n",
            "34/34 [==============================] - 3s 59ms/step - loss: 1.2856 - auc: 0.6885 - val_loss: 0.3719 - val_auc: 0.9572\n",
            "Epoch 2/10\n",
            "34/34 [==============================] - 2s 48ms/step - loss: 0.4397 - auc: 0.8939 - val_loss: 0.3924 - val_auc: 0.9684\n",
            "Epoch 3/10\n",
            "34/34 [==============================] - 2s 47ms/step - loss: 0.4269 - auc: 0.8935 - val_loss: 0.3304 - val_auc: 0.9592\n",
            "Epoch 4/10\n",
            "34/34 [==============================] - 2s 47ms/step - loss: 0.4528 - auc: 0.8596 - val_loss: 0.3076 - val_auc: 0.9763\n",
            "Epoch 5/10\n",
            "34/34 [==============================] - 2s 49ms/step - loss: 0.3959 - auc: 0.8997 - val_loss: 0.2991 - val_auc: 0.9715\n",
            "Epoch 6/10\n",
            "34/34 [==============================] - 2s 73ms/step - loss: 0.3706 - auc: 0.9129 - val_loss: 0.2858 - val_auc: 0.9839\n",
            "Epoch 7/10\n",
            "34/34 [==============================] - 2s 70ms/step - loss: 0.3323 - auc: 0.9425 - val_loss: 0.2762 - val_auc: 0.9857\n",
            "Epoch 8/10\n",
            "34/34 [==============================] - 2s 47ms/step - loss: 0.3368 - auc: 0.9148 - val_loss: 0.2753 - val_auc: 0.9718\n",
            "Epoch 9/10\n",
            "34/34 [==============================] - 2s 48ms/step - loss: 0.3425 - auc: 0.9040 - val_loss: 0.2874 - val_auc: 0.9847\n",
            "Epoch 10/10\n",
            "34/34 [==============================] - 2s 45ms/step - loss: 0.3447 - auc: 0.8977 - val_loss: 0.2459 - val_auc: 0.9795\n"
          ]
        },
        {
          "output_type": "execute_result",
          "data": {
            "text/plain": [
              "<keras.src.callbacks.History at 0x782098f7e560>"
            ]
          },
          "metadata": {},
          "execution_count": 19
        }
      ]
    },
    {
      "cell_type": "markdown",
      "source": [
        "\n",
        "El modelo muestra una mejora progresiva en el rendimiento a lo largo del entrenamiento. La pérdida disminuye de forma constante, indicando una mejor adaptación a los datos de entrenamiento. Además, el AUC aumenta significativamente desde aproximadamente 0.6398 hasta 0.9378, lo que sugiere una mejor capacidad de discriminación entre las clases. El modelo parece que generaliza bien a datos que no ha visto y no parece tener sobreajuste."
      ],
      "metadata": {
        "id": "U1uGjiPxHGbL"
      }
    },
    {
      "cell_type": "code",
      "source": [
        "reg_strength = 0.001\n",
        "\n",
        "###########Estrategias a usar: regilarization usar una a la vez para ver impacto\n",
        "dropout_rate = 0.2 ## porcentaje de neuronas que utiliza\n",
        "\n",
        "fc_model5=tf.keras.models.Sequential([\n",
        "    tf.keras.layers.Flatten(input_shape=x_train.shape[1:]),\n",
        "    tf.keras.layers.Dense(64, activation='relu', kernel_regularizer=tf.keras.regularizers.l2(reg_strength)),\n",
        "    tf.keras.layers.Dropout(dropout_rate),\n",
        "    tf.keras.layers.Dense(64, activation='relu', kernel_regularizer=tf.keras.regularizers.l2(reg_strength)),\n",
        "    tf.keras.layers.Dropout(dropout_rate),\n",
        "    tf.keras.layers.Dense(32, activation='relu', kernel_regularizer=tf.keras.regularizers.l2(reg_strength)),\n",
        "    tf.keras.layers.Dropout(dropout_rate),\n",
        "    tf.keras.layers.Dense(1, activation='sigmoid')\n",
        "])\n",
        "##### configura el optimizador y la función para optimizar ##############\n",
        "\n",
        "\n",
        "\n",
        "fc_model5.compile(optimizer='adam', loss='binary_crossentropy', metrics=['AUC'])"
      ],
      "metadata": {
        "id": "tlgWHuxXofh8"
      },
      "execution_count": null,
      "outputs": []
    },
    {
      "cell_type": "code",
      "source": [
        "#####Entrenar el modelo usando el optimizador y arquitectura definidas #########\n",
        "fc_model5.fit(x_train, y_train, batch_size=100, epochs=10, validation_data=(x_test, y_test))"
      ],
      "metadata": {
        "id": "OPcLo0_QojXU",
        "outputId": "7b6ec083-044e-4f11-e685-7a45293a35ef",
        "colab": {
          "base_uri": "https://localhost:8080/"
        }
      },
      "execution_count": null,
      "outputs": [
        {
          "output_type": "stream",
          "name": "stdout",
          "text": [
            "Epoch 1/10\n",
            "34/34 [==============================] - 4s 82ms/step - loss: 1.1018 - auc: 0.6397 - val_loss: 0.4900 - val_auc: 0.9592\n",
            "Epoch 2/10\n",
            "34/34 [==============================] - 3s 77ms/step - loss: 0.4986 - auc: 0.8871 - val_loss: 0.4094 - val_auc: 0.9780\n",
            "Epoch 3/10\n",
            "34/34 [==============================] - 2s 46ms/step - loss: 0.4241 - auc: 0.9295 - val_loss: 0.3565 - val_auc: 0.9827\n",
            "Epoch 4/10\n",
            "34/34 [==============================] - 2s 51ms/step - loss: 0.3773 - auc: 0.9484 - val_loss: 0.3252 - val_auc: 0.9852\n",
            "Epoch 5/10\n",
            "34/34 [==============================] - 2s 47ms/step - loss: 0.3517 - auc: 0.9472 - val_loss: 0.3055 - val_auc: 0.9864\n",
            "Epoch 6/10\n",
            "34/34 [==============================] - 2s 47ms/step - loss: 0.3477 - auc: 0.9444 - val_loss: 0.7013 - val_auc: 0.9732\n",
            "Epoch 7/10\n",
            "34/34 [==============================] - 2s 46ms/step - loss: 0.3728 - auc: 0.9220 - val_loss: 0.2646 - val_auc: 0.9839\n",
            "Epoch 8/10\n",
            "34/34 [==============================] - 2s 48ms/step - loss: 0.3104 - auc: 0.9518 - val_loss: 0.3438 - val_auc: 0.9861\n",
            "Epoch 9/10\n",
            "34/34 [==============================] - 3s 75ms/step - loss: 0.3167 - auc: 0.9402 - val_loss: 0.2333 - val_auc: 0.9892\n",
            "Epoch 10/10\n",
            "34/34 [==============================] - 2s 71ms/step - loss: 0.2826 - auc: 0.9554 - val_loss: 0.2892 - val_auc: 0.9871\n"
          ]
        },
        {
          "output_type": "execute_result",
          "data": {
            "text/plain": [
              "<keras.src.callbacks.History at 0x782098ddbb50>"
            ]
          },
          "metadata": {},
          "execution_count": 21
        }
      ]
    },
    {
      "cell_type": "markdown",
      "source": [
        "\n",
        "El modelo muestra una mejora progresiva en el rendimiento durante el entrenamiento. Inicialmente, el valor de pérdida es alto aproximadamente de 0.9424, pero disminuye gradualmente, lo que indisca un mejor rendimiento del modelo. Por otro lado, el AUC comienza en 0.6236 y mejora llegando a 0.9400 en el último epoch. En cuanto a las métricas de validación, la pérdida de validación sigue una tendencia decreciente, mientras que el AUC de validación se mantiene alto, cerca de 0.98, lo que indica que el modelo generaliza bien a datos no vistos. Estos resultados indican que el modelo está aprendiendo bien los datos, aunque podría tener ajustes adicionales para mejorar su rendimiento final."
      ],
      "metadata": {
        "id": "M1xB5teaIYvu"
      }
    },
    {
      "cell_type": "code",
      "source": [
        "reg_strength = 0.001\n",
        "\n",
        "###########Estrategias a usar: regilarization usar una a la vez para ver impacto\n",
        "dropout_rate = 0.35 ## porcentaje de neuronas que utiliza\n",
        "\n",
        "fc_model=tf.keras.models.Sequential([\n",
        "    tf.keras.layers.Flatten(input_shape=x_train.shape[1:]),\n",
        "    tf.keras.layers.Dense(128, activation='relu', kernel_regularizer=tf.keras.regularizers.l2(reg_strength)),\n",
        "    tf.keras.layers.Dropout(dropout_rate),\n",
        "    tf.keras.layers.Dense(64, activation='relu', kernel_regularizer=tf.keras.regularizers.l2(reg_strength)),\n",
        "    tf.keras.layers.Dropout(dropout_rate),\n",
        "    tf.keras.layers.Dense(1, activation='sigmoid')\n",
        "])\n",
        "##### configura el optimizador y la función para optimizar ##############\n",
        "\n",
        "\n",
        "\n",
        "fc_model.compile(optimizer='adam', loss='binary_crossentropy', metrics=['AUC'])\n"
      ],
      "metadata": {
        "id": "5zyrD-NdosXu"
      },
      "execution_count": null,
      "outputs": []
    },
    {
      "cell_type": "code",
      "source": [
        "#####Entrenar el modelo usando el optimizador y arquitectura definidas #########\n",
        "fc_model.fit(x_train, y_train, batch_size=100, epochs=10, validation_data=(x_test, y_test))"
      ],
      "metadata": {
        "id": "2QFdsuhPovqT",
        "outputId": "4429bf92-a51a-4a56-af97-d1174271ed36",
        "colab": {
          "base_uri": "https://localhost:8080/"
        }
      },
      "execution_count": null,
      "outputs": [
        {
          "output_type": "stream",
          "name": "stdout",
          "text": [
            "Epoch 1/10\n",
            "34/34 [==============================] - 4s 92ms/step - loss: 2.2626 - auc: 0.6757 - val_loss: 0.5543 - val_auc: 0.9533\n",
            "Epoch 2/10\n",
            "34/34 [==============================] - 3s 85ms/step - loss: 0.5703 - auc: 0.9112 - val_loss: 0.5183 - val_auc: 0.9713\n",
            "Epoch 3/10\n",
            "34/34 [==============================] - 4s 128ms/step - loss: 0.4934 - auc: 0.9415 - val_loss: 0.4719 - val_auc: 0.9794\n",
            "Epoch 4/10\n",
            "34/34 [==============================] - 4s 105ms/step - loss: 0.4567 - auc: 0.9444 - val_loss: 0.4570 - val_auc: 0.9803\n",
            "Epoch 5/10\n",
            "34/34 [==============================] - 3s 85ms/step - loss: 0.4311 - auc: 0.9365 - val_loss: 0.3738 - val_auc: 0.9816\n",
            "Epoch 6/10\n",
            "34/34 [==============================] - 3s 86ms/step - loss: 0.3980 - auc: 0.9420 - val_loss: 0.3489 - val_auc: 0.9860\n",
            "Epoch 7/10\n",
            "34/34 [==============================] - 3s 96ms/step - loss: 0.3762 - auc: 0.9474 - val_loss: 0.3702 - val_auc: 0.9843\n",
            "Epoch 8/10\n",
            "34/34 [==============================] - 4s 120ms/step - loss: 0.3469 - auc: 0.9481 - val_loss: 0.3547 - val_auc: 0.9857\n",
            "Epoch 9/10\n",
            "34/34 [==============================] - 3s 86ms/step - loss: 0.2999 - auc: 0.9653 - val_loss: 0.3329 - val_auc: 0.9814\n",
            "Epoch 10/10\n",
            "34/34 [==============================] - 3s 84ms/step - loss: 0.3125 - auc: 0.9531 - val_loss: 0.3377 - val_auc: 0.9862\n"
          ]
        },
        {
          "output_type": "execute_result",
          "data": {
            "text/plain": [
              "<keras.src.callbacks.History at 0x7820a6f10f10>"
            ]
          },
          "metadata": {},
          "execution_count": 23
        }
      ]
    },
    {
      "cell_type": "markdown",
      "source": [
        "Al inicio el valor de pérdida es bastante alto aproximadamente 2.31, lo que indica que el modelo necesita ajustes significativos. Sin embargo, la pérdida disminuye en los epochs posteriores, llegando a un valor de 0.3802. Esto indica que el modelo está mejorando su capacidad para hacer predicciones sobre los datos de entrenamiento. El AUC, comienza en 0.6439 y mejora llegando a 0.9304 en el último epoch. Esta mejora indica que el modelo está mejorando su capacidad de hacer predicciones.\n"
      ],
      "metadata": {
        "id": "ISySzG3vJa-B"
      }
    }
  ]
}