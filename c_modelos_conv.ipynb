{
  "nbformat": 4,
  "nbformat_minor": 0,
  "metadata": {
    "colab": {
      "provenance": [],
      "authorship_tag": "ABX9TyOtO8SsJ6+x9aqjmPduLC9R",
      "include_colab_link": true
    },
    "kernelspec": {
      "name": "python3",
      "display_name": "Python 3"
    },
    "language_info": {
      "name": "python"
    }
  },
  "cells": [
    {
      "cell_type": "markdown",
      "metadata": {
        "id": "view-in-github",
        "colab_type": "text"
      },
      "source": [
        "<a href=\"https://colab.research.google.com/github/AleAguirreM/LEA3_Health/blob/main/c_modelos_conv.ipynb\" target=\"_parent\"><img src=\"https://colab.research.google.com/assets/colab-badge.svg\" alt=\"Open In Colab\"/></a>"
      ]
    },
    {
      "cell_type": "code",
      "source": [
        "from google.colab import drive\n",
        "drive.mount('/content/drive')"
      ],
      "metadata": {
        "colab": {
          "base_uri": "https://localhost:8080/"
        },
        "id": "PGNUAM4WruwW",
        "outputId": "308777e4-cf94-4d06-e62e-4eccd4b032f5"
      },
      "execution_count": 4,
      "outputs": [
        {
          "output_type": "stream",
          "name": "stdout",
          "text": [
            "Mounted at /content/drive\n"
          ]
        }
      ]
    },
    {
      "cell_type": "code",
      "source": [
        "import numpy as np\n",
        "import joblib ### para cargar array\n",
        "\n",
        "########Paquetes para NN #########\n",
        "import tensorflow as tf\n",
        "from sklearn import metrics ### para analizar modelo\n",
        "from sklearn.ensemble import RandomForestClassifier  ### para analizar modelo\n",
        "import pandas as pd\n",
        "\n",
        "from sklearn.ensemble import RandomForestClassifier\n",
        "from sklearn import tree\n",
        "import keras"
      ],
      "metadata": {
        "id": "R36pr4Ei53eq"
      },
      "execution_count": 2,
      "outputs": []
    },
    {
      "cell_type": "code",
      "source": [
        "!pip install keras-tuner"
      ],
      "metadata": {
        "colab": {
          "base_uri": "https://localhost:8080/"
        },
        "id": "1CTrFo5Ts003",
        "outputId": "8df72c03-68f5-498b-ffb3-f01273d39f35"
      },
      "execution_count": 13,
      "outputs": [
        {
          "output_type": "stream",
          "name": "stdout",
          "text": [
            "Collecting keras-tuner\n",
            "  Downloading keras_tuner-1.4.7-py3-none-any.whl (129 kB)\n",
            "\u001b[?25l     \u001b[90m━━━━━━━━━━━━━━━━━━━━━━━━━━━━━━━━━━━━━━━━\u001b[0m \u001b[32m0.0/129.1 kB\u001b[0m \u001b[31m?\u001b[0m eta \u001b[36m-:--:--\u001b[0m\r\u001b[2K     \u001b[91m━━━━━━━━━━━━━━━━━━━━━━━━━━━━━━━━━━━━━━\u001b[0m\u001b[90m╺\u001b[0m\u001b[90m━\u001b[0m \u001b[32m122.9/129.1 kB\u001b[0m \u001b[31m4.1 MB/s\u001b[0m eta \u001b[36m0:00:01\u001b[0m\r\u001b[2K     \u001b[90m━━━━━━━━━━━━━━━━━━━━━━━━━━━━━━━━━━━━━━━━\u001b[0m \u001b[32m129.1/129.1 kB\u001b[0m \u001b[31m3.3 MB/s\u001b[0m eta \u001b[36m0:00:00\u001b[0m\n",
            "\u001b[?25hRequirement already satisfied: keras in /usr/local/lib/python3.10/dist-packages (from keras-tuner) (2.15.0)\n",
            "Requirement already satisfied: packaging in /usr/local/lib/python3.10/dist-packages (from keras-tuner) (24.0)\n",
            "Requirement already satisfied: requests in /usr/local/lib/python3.10/dist-packages (from keras-tuner) (2.31.0)\n",
            "Collecting kt-legacy (from keras-tuner)\n",
            "  Downloading kt_legacy-1.0.5-py3-none-any.whl (9.6 kB)\n",
            "Requirement already satisfied: charset-normalizer<4,>=2 in /usr/local/lib/python3.10/dist-packages (from requests->keras-tuner) (3.3.2)\n",
            "Requirement already satisfied: idna<4,>=2.5 in /usr/local/lib/python3.10/dist-packages (from requests->keras-tuner) (3.7)\n",
            "Requirement already satisfied: urllib3<3,>=1.21.1 in /usr/local/lib/python3.10/dist-packages (from requests->keras-tuner) (2.0.7)\n",
            "Requirement already satisfied: certifi>=2017.4.17 in /usr/local/lib/python3.10/dist-packages (from requests->keras-tuner) (2024.2.2)\n",
            "Installing collected packages: kt-legacy, keras-tuner\n",
            "Successfully installed keras-tuner-1.4.7 kt-legacy-1.0.5\n"
          ]
        }
      ]
    },
    {
      "cell_type": "code",
      "execution_count": 5,
      "metadata": {
        "id": "gAdd_D5e5x9r"
      },
      "outputs": [],
      "source": [
        "### cargar bases_procesadas ####\n",
        "\n",
        "x_train = joblib.load('/content/drive/MyDrive/TB_Chest_Radiography_Database/salidas/x_train.pkl')\n",
        "y_train = joblib.load('/content/drive/MyDrive/TB_Chest_Radiography_Database/salidas/y_train.pkl')\n",
        "x_test = joblib.load('/content/drive/MyDrive/TB_Chest_Radiography_Database/salidas/x_test.pkl')\n",
        "y_test = joblib.load('/content/drive/MyDrive/TB_Chest_Radiography_Database/salidas/y_test.pkl')\n"
      ]
    },
    {
      "cell_type": "code",
      "source": [
        "#### Escalar ######################\n",
        "x_train=x_train.astype('float32') ## para poder escalarlo\n",
        "x_test=x_test.astype('float32') ## para poder escalarlo\n",
        "x_train /=255 ### escalaro para que quede entre 0 y 1\n",
        "x_test /=255"
      ],
      "metadata": {
        "id": "kdjgOX2Mr7fF"
      },
      "execution_count": null,
      "outputs": []
    },
    {
      "cell_type": "code",
      "source": [
        "###### verificar tamaños\n",
        "\n",
        "print(x_train.shape)\n",
        "x_test.shape\n"
      ],
      "metadata": {
        "colab": {
          "base_uri": "https://localhost:8080/"
        },
        "id": "5oyGa6O1sFCc",
        "outputId": "a738f880-4beb-4f33-fac6-fb8a4b6e2aba"
      },
      "execution_count": 6,
      "outputs": [
        {
          "output_type": "stream",
          "name": "stdout",
          "text": [
            "(3360, 100, 100, 3)\n"
          ]
        },
        {
          "output_type": "execute_result",
          "data": {
            "text/plain": [
              "(840, 100, 100, 3)"
            ]
          },
          "metadata": {},
          "execution_count": 6
        }
      ]
    },
    {
      "cell_type": "code",
      "source": [
        "np.product(x_train[1].shape) ## cantidad de variables por imagen"
      ],
      "metadata": {
        "colab": {
          "base_uri": "https://localhost:8080/"
        },
        "id": "Bj4P3Z0ksREo",
        "outputId": "db2d10dd-5360-4fbf-9e23-dd4d0c85afb1"
      },
      "execution_count": 7,
      "outputs": [
        {
          "output_type": "execute_result",
          "data": {
            "text/plain": [
              "30000"
            ]
          },
          "metadata": {},
          "execution_count": 7
        }
      ]
    },
    {
      "cell_type": "code",
      "source": [
        "print(np.unique(y_train, return_counts=True))\n",
        "np.unique(y_test, return_counts=True)"
      ],
      "metadata": {
        "colab": {
          "base_uri": "https://localhost:8080/"
        },
        "id": "n-9EUoIpsVjS",
        "outputId": "c286928e-a2c9-47eb-dfce-d6beb5e8e498"
      },
      "execution_count": 9,
      "outputs": [
        {
          "output_type": "stream",
          "name": "stdout",
          "text": [
            "(array([0, 1]), array([2800,  560]))\n"
          ]
        },
        {
          "output_type": "execute_result",
          "data": {
            "text/plain": [
              "(array([0, 1]), array([700, 140]))"
            ]
          },
          "metadata": {},
          "execution_count": 9
        }
      ]
    },
    {
      "cell_type": "code",
      "source": [
        "##########################################################\n",
        "################ Redes convolucionales ###################\n",
        "##########################################################\n",
        "\n",
        "cnn_model = tf.keras.Sequential([\n",
        "    tf.keras.layers.Conv2D(16, kernel_size=(3, 3), activation='relu', input_shape=x_train.shape[1:]),\n",
        "    tf.keras.layers.MaxPooling2D(pool_size=(2, 2)),\n",
        "    tf.keras.layers.Conv2D(32, kernel_size=(3, 3), activation='relu'),\n",
        "    tf.keras.layers.MaxPooling2D(pool_size=(2, 2)),\n",
        "    tf.keras.layers.Flatten(),\n",
        "    tf.keras.layers.Dense(64, activation='relu'),\n",
        "    tf.keras.layers.Dense(1, activation='sigmoid')\n",
        "])\n",
        "\n",
        "# Compile the model with binary cross-entropy loss and Adam optimizer\n",
        "cnn_model.compile(loss='binary_crossentropy', optimizer='adam', metrics=['AUC'])"
      ],
      "metadata": {
        "id": "5ZPufC4JslQE"
      },
      "execution_count": 10,
      "outputs": []
    },
    {
      "cell_type": "code",
      "source": [
        "# Train the model for 10 epochs\n",
        "cnn_model.fit(x_train, y_train, batch_size=100, epochs=10, validation_data=(x_test, y_test))"
      ],
      "metadata": {
        "colab": {
          "base_uri": "https://localhost:8080/"
        },
        "id": "EyT_Xi3IspXj",
        "outputId": "91b43c26-c0da-489a-c5a8-27d51885857d"
      },
      "execution_count": 11,
      "outputs": [
        {
          "output_type": "stream",
          "name": "stdout",
          "text": [
            "Epoch 1/10\n",
            "34/34 [==============================] - 28s 770ms/step - loss: 13.9474 - auc: 0.7308 - val_loss: 2.3545 - val_auc: 0.5428\n",
            "Epoch 2/10\n",
            "34/34 [==============================] - 23s 683ms/step - loss: 0.3584 - auc: 0.9326 - val_loss: 0.3285 - val_auc: 0.9378\n",
            "Epoch 3/10\n",
            "34/34 [==============================] - 22s 649ms/step - loss: 0.1234 - auc: 0.9796 - val_loss: 0.1843 - val_auc: 0.9765\n",
            "Epoch 4/10\n",
            "34/34 [==============================] - 23s 685ms/step - loss: 0.0831 - auc: 0.9900 - val_loss: 0.1930 - val_auc: 0.9799\n",
            "Epoch 5/10\n",
            "34/34 [==============================] - 21s 636ms/step - loss: 0.0563 - auc: 0.9935 - val_loss: 0.1138 - val_auc: 0.9849\n",
            "Epoch 6/10\n",
            "34/34 [==============================] - 28s 834ms/step - loss: 0.0461 - auc: 0.9964 - val_loss: 0.1823 - val_auc: 0.9812\n",
            "Epoch 7/10\n",
            "34/34 [==============================] - 25s 743ms/step - loss: 0.0393 - auc: 0.9965 - val_loss: 0.1040 - val_auc: 0.9855\n",
            "Epoch 8/10\n",
            "34/34 [==============================] - 23s 679ms/step - loss: 0.0360 - auc: 0.9973 - val_loss: 0.1046 - val_auc: 0.9876\n",
            "Epoch 9/10\n",
            "34/34 [==============================] - 23s 681ms/step - loss: 0.0253 - auc: 0.9991 - val_loss: 0.0856 - val_auc: 0.9911\n",
            "Epoch 10/10\n",
            "34/34 [==============================] - 31s 892ms/step - loss: 0.0244 - auc: 0.9990 - val_loss: 0.1213 - val_auc: 0.9862\n"
          ]
        },
        {
          "output_type": "execute_result",
          "data": {
            "text/plain": [
              "<keras.src.callbacks.History at 0x7d330e002e90>"
            ]
          },
          "metadata": {},
          "execution_count": 11
        }
      ]
    },
    {
      "cell_type": "code",
      "source": [
        "#######probar una red con regulzarización\n",
        "\n",
        "\n",
        "#####################################################\n",
        "###### afinar hiperparameter ########################\n",
        "#####################################################\n",
        "####instalar paquete !pip install keras-tuner\n",
        "import keras_tuner as kt"
      ],
      "metadata": {
        "id": "N766DHVussfJ"
      },
      "execution_count": 14,
      "outputs": []
    },
    {
      "cell_type": "code",
      "source": [
        "##### función con definicion de hiperparámetros a afinar\n",
        "\n",
        "def build_model(hp):\n",
        "\n",
        "    dropout_rate=hp.Float('DO', min_value=0.1, max_value= 0.4, step=0.05)\n",
        "    reg_strength = hp.Float(\"rs\", min_value=0.0001, max_value=0.0005, step=0.0001)\n",
        "    ####hp.Int\n",
        "    ####hp.Choice\n",
        "\n",
        "\n",
        "    model=tf.keras.models.Sequential([\n",
        "        tf.keras.layers.Flatten(input_shape=x_train.shape[1:]),\n",
        "        tf.keras.layers.Dense(128, activation='relu',kernel_regularizer=tf.keras.regularizers.l2(reg_strength)),\n",
        "        tf.keras.layers.Dropout(dropout_rate),\n",
        "        tf.keras.layers.Dense(64, activation='relu', kernel_regularizer=tf.keras.regularizers.l2(reg_strength)),\n",
        "        tf.keras.layers.Dropout(dropout_rate),\n",
        "        tf.keras.layers.Dense(1, activation='sigmoid')\n",
        "    ])\n",
        "\n",
        "    optimizer = hp.Choice('optimizer', ['adam', 'sgd', 'rmsprop'])\n",
        "    if optimizer == 'adam':\n",
        "        opt = tf.keras.optimizers.Adam(learning_rate=0.001)\n",
        "    elif optimizer == 'sgd':\n",
        "        opt = tf.keras.optimizers.SGD(learning_rate=0.01)\n",
        "    else:\n",
        "        opt = tf.keras.optimizers.RMSprop(learning_rate=0.0001)\n",
        "\n",
        "    model.compile(\n",
        "        optimizer=opt, loss=\"binary_crossentropy\", metrics=[\"AUC\"],\n",
        "    )\n",
        "    return model\n"
      ],
      "metadata": {
        "id": "vu6rY0outTEf"
      },
      "execution_count": 15,
      "outputs": []
    },
    {
      "cell_type": "code",
      "source": [
        "###########\n",
        "hp = kt.HyperParameters()\n",
        "build_model(hp)\n",
        "\n",
        "tuner = kt.RandomSearch(\n",
        "    hypermodel=build_model,\n",
        "    hyperparameters=hp,\n",
        "    tune_new_entries=False, ## solo evalúe los hiperparámetros configurados\n",
        "    objective=kt.Objective(\"val_auc\", direction=\"max\"),\n",
        "    max_trials=10,\n",
        "    overwrite=True,\n",
        "    directory=\"my_dir\",\n",
        "    project_name=\"helloworld\",\n",
        ")\n",
        "\n",
        "tuner.search(x_train, y_train, epochs=3, validation_data=(x_test, y_test), batch_size=100)\n",
        "\n",
        "fc_best_model = tuner.get_best_models(num_models=1)[0]\n",
        "tuner.results_summary()"
      ],
      "metadata": {
        "colab": {
          "base_uri": "https://localhost:8080/"
        },
        "id": "bC9QwO2UtWak",
        "outputId": "31c7b843-b9d2-49fb-9a81-65062bd34405"
      },
      "execution_count": 16,
      "outputs": [
        {
          "output_type": "stream",
          "name": "stdout",
          "text": [
            "Trial 10 Complete [00h 00m 11s]\n",
            "val_auc: 0.895959198474884\n",
            "\n",
            "Best val_auc So Far: 0.9011836647987366\n",
            "Total elapsed time: 00h 01m 59s\n",
            "Results summary\n",
            "Results in my_dir/helloworld\n",
            "Showing 10 best trials\n",
            "Objective(name=\"val_auc\", direction=\"max\")\n",
            "\n",
            "Trial 01 summary\n",
            "Hyperparameters:\n",
            "DO: 0.30000000000000004\n",
            "rs: 0.0004\n",
            "optimizer: adam\n",
            "Score: 0.9011836647987366\n",
            "\n",
            "Trial 09 summary\n",
            "Hyperparameters:\n",
            "DO: 0.15000000000000002\n",
            "rs: 0.0002\n",
            "optimizer: rmsprop\n",
            "Score: 0.895959198474884\n",
            "\n",
            "Trial 06 summary\n",
            "Hyperparameters:\n",
            "DO: 0.1\n",
            "rs: 0.0005\n",
            "optimizer: rmsprop\n",
            "Score: 0.8792295455932617\n",
            "\n",
            "Trial 00 summary\n",
            "Hyperparameters:\n",
            "DO: 0.1\n",
            "rs: 0.0004\n",
            "optimizer: rmsprop\n",
            "Score: 0.8749693632125854\n",
            "\n",
            "Trial 07 summary\n",
            "Hyperparameters:\n",
            "DO: 0.25\n",
            "rs: 0.0004\n",
            "optimizer: rmsprop\n",
            "Score: 0.8472855687141418\n",
            "\n",
            "Trial 02 summary\n",
            "Hyperparameters:\n",
            "DO: 0.15000000000000002\n",
            "rs: 0.00030000000000000003\n",
            "optimizer: rmsprop\n",
            "Score: 0.8338317275047302\n",
            "\n",
            "Trial 05 summary\n",
            "Hyperparameters:\n",
            "DO: 0.25\n",
            "rs: 0.0001\n",
            "optimizer: sgd\n",
            "Score: 0.5007143020629883\n",
            "\n",
            "Trial 04 summary\n",
            "Hyperparameters:\n",
            "DO: 0.1\n",
            "rs: 0.0001\n",
            "optimizer: sgd\n",
            "Score: 0.5\n",
            "\n",
            "Trial 08 summary\n",
            "Hyperparameters:\n",
            "DO: 0.35\n",
            "rs: 0.0002\n",
            "optimizer: adam\n",
            "Score: 0.5\n",
            "\n",
            "Trial 03 summary\n",
            "Hyperparameters:\n",
            "DO: 0.35\n",
            "rs: 0.00030000000000000003\n",
            "optimizer: sgd\n",
            "Score: 0.4985714256763458\n"
          ]
        }
      ]
    },
    {
      "cell_type": "code",
      "source": [
        "#################### Mejor redes ##############\n",
        "\n",
        "joblib.dump(fc_best_model, \"/content/drive/MyDrive/TB_Chest_Radiography_Database/salidas/fc_model.pkl\")\n",
        "joblib.dump(cnn_model, \"/content/drive/MyDrive/TB_Chest_Radiography_Database/salidas/cnn_model.pkl\")"
      ],
      "metadata": {
        "colab": {
          "base_uri": "https://localhost:8080/"
        },
        "id": "2TDNkECStYsp",
        "outputId": "4425e592-3843-41f9-8c34-ce4dc761a95b"
      },
      "execution_count": 18,
      "outputs": [
        {
          "output_type": "execute_result",
          "data": {
            "text/plain": [
              "['/content/drive/MyDrive/TB_Chest_Radiography_Database/salidas/cnn_model.pkl']"
            ]
          },
          "metadata": {},
          "execution_count": 18
        }
      ]
    }
  ]
}